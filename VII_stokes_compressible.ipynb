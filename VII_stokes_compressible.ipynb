{
 "cells": [
  {
   "attachments": {},
   "cell_type": "markdown",
   "metadata": {},
   "source": [
    "# Differentiable Physics VII: Incompressible Navier Stokes"
   ]
  },
  {
   "attachments": {},
   "cell_type": "markdown",
   "metadata": {},
   "source": [
    "## Navier Stokes Equations\n",
    "\n",
    "We limit the scope of the solver with the following constraints:\n",
    "\n",
    "- We use the conservative form of the equations, meaning we are looking at a volume which is fixed in space and the fluid is moving through it.\n",
    "- We use a 2D grid based approach, where each cell in the grid represents a volume element and has size $\\Delta x \\times \\Delta y$.\n",
    "\n",
    "The following quantities are defined on the grid:\n",
    "\n",
    "- $\\vec{v_{i,j}}$ : velocity vector field with x / y components $u$ and $v$\n",
    "- $\\rho$ : pressure scalar field\n",
    "- $E$ : Energy scalar field\n",
    "\n",
    "We can formulate the compressible navier stokes equations in 2D as:\n",
    "\n",
    "$$\\frac{U}{\\Delta t} + \\frac{E}{\\Delta x} + \\frac{F}{\\Delta y} = 0$$\n",
    "\n",
    "where we have:\n",
    "\n",
    "$$ U = \\begin{bmatrix} \\rho \\\\ \\rho u \\\\ \\rho v \\\\ E \\end{bmatrix} \\quad\n",
    "E = \\begin{bmatrix} \\rho u \\\\ \\rho u^2 + p - \\tau_{xx} \\\\ \\rho u v - \\tau_{xy} \\\\ (E + p) u - u \\tau_{xx} - v \\tau_{xy} + q_x \\end{bmatrix} \n",
    "F = \\begin{bmatrix} \\rho v \\\\ \\rho u v - \\tau_{xy} \\\\ \\rho v^2 + p - \\tau_{yy} \\\\ (E + p) v - u \\tau_{xy} - v \\tau_{yy} + q_y \\end{bmatrix} $$\n",
    "\n",
    "where $\\tau_{xx}$, $\\tau_{xy}$, $\\tau_{yy}$ are the components of the viscous stress tensor and $q_x$, $q_y$ are the components of the heat flux vector.\n",
    "\n",
    "$$ \\tau_{xx} = \\mu \\left( 2 \\frac{\\partial u}{\\partial x} - \\frac{2}{3} \\left( \\frac{\\partial u}{\\partial x} + \\frac{\\partial v}{\\partial y} \\right) \\right) \\quad\n",
    "\\tau_{xy} = \\mu \\left( \\frac{\\partial u}{\\partial y} + \\frac{\\partial v}{\\partial x} \\right) \\quad\n",
    "\\tau_{yy} = \\mu \\left( 2 \\frac{\\partial v}{\\partial y} - \\frac{2}{3} \\left( \\frac{\\partial u}{\\partial x} + \\frac{\\partial v}{\\partial y} \\right) \\right) $$\n",
    "\n",
    "$$ q_x = - \\lambda \\frac{\\partial T}{\\partial x} \\quad\n",
    "q_y = - \\lambda \\frac{\\partial T}{\\partial y} $$\n",
    "\n",
    "where $\\mu$ is the dynamic viscosity and $\\lambda$ is the thermal conductivity.\n"
   ]
  },
  {
   "attachments": {},
   "cell_type": "markdown",
   "metadata": {},
   "source": [
    "We now insert the navier stokes equations into the mac cormack method. We start with the predictor step:\n",
    "\n",
    "$$\\bar{U}_{i,j}^{n+1} = U_{i,j}^n - \\frac{\\Delta t}{\\Delta x} \\left( E_{i+1, j}^{n} - E_{i, j}^{n} \\right) - \\frac{\\Delta t}{\\Delta y} \\left( F_{i, j+1}^{n} - F_{i, j}^{n} \\right)$$\n",
    "\n",
    "and the corrector step:\n",
    "\n",
    "$$U_{i,j}^{n+1} = \\frac{1}{2} \\left[ \\left( U_{i,j}^n + \\bar{U}_{i,j}^{n+1} \\right) - \\frac{\\Delta t}{ \\Delta x} \\left( \\bar{E}_{i, j}^{n+1} - \\bar{E}_{i-1, j}^{n+1} \\right) - \\frac{\\Delta t}{\\Delta y} \\left( \\bar{F}_{i, j}^{n+1} - \\bar{F}_{i, j-1}^{n+1} \\right) \\right]$$"
   ]
  },
  {
   "cell_type": "code",
   "execution_count": 1,
   "metadata": {},
   "outputs": [],
   "source": [
    "import jax.numpy as jnp\n",
    "from jax import value_and_grad, jit\n",
    "from functools import partial\n",
    "\n",
    "def fwd_diff(f : jnp.ndarray, dx : float, axis : int):\n",
    "    return jnp.roll(f, -1, axis=axis) - f / dx\n",
    "\n",
    "def bwd_diff(f : jnp.ndarray, dx : float, axis : int):\n",
    "    return f - jnp.roll(f, 1, axis=axis) / dx\n",
    "\n",
    "def ctr_diff(f : jnp.ndarray, dx : float, axis : int):\n",
    "    return (jnp.roll(f, -1, axis=axis) - jnp.roll(f, 1, axis=0)) / (2*dx)"
   ]
  },
  {
   "cell_type": "code",
   "execution_count": null,
   "metadata": {},
   "outputs": [],
   "source": [
    "# U : [rho, rho*u, rho*v, E_total]\n",
    "def mac_cormack_2D(\n",
    "    U : jnp.ndarray, \n",
    "    dt : float, \n",
    "    dx : float, \n",
    "    dy : float, \n",
    "    mu : float, # viscosity\n",
    "    c_v : float, # specific heat constant volume\n",
    "    c_p : float, # specific heat constant pressure\n",
    "    R : float, # gas constant\n",
    "    k : float, # thermal conductivity\n",
    "):\n",
    "    gamma = c_p / c_v\n",
    "    rho = U[0]\n",
    "    u = U[1]/rho\n",
    "    v = U[2]/rho\n",
    "    e = U[3]/U[1] - 0.5*(u**2 + v**2)\n",
    "\n",
    "    T = (gamma - 1)*e / R\n",
    "    p = (gamma - 1)*rho*e\n",
    "\n",
    "    tau_xx = 2/3*mu*(2*fwd_diff(u, dx, axis=0) - fwd_diff(v, dy, axis=1))\n",
    "    tau_yy = 2/3*mu*(2*fwd_diff(v, dy, axis=1) - fwd_diff(u, dx, axis=0))\n",
    "    tau_xy = mu*(fwd_diff(u, dx, axis=0) + fwd_diff(v, dy, axis=1))\n",
    "\n",
    "    q_x = -k*fwd_diff(T, dx, axis=0)\n",
    "    q_y = -k*fwd_diff(T, dy, axis=1)\n",
    "\n",
    "    "
   ]
  },
  {
   "attachments": {},
   "cell_type": "markdown",
   "metadata": {},
   "source": []
  }
 ],
 "metadata": {
  "kernelspec": {
   "display_name": "pbdl",
   "language": "python",
   "name": "python3"
  },
  "language_info": {
   "codemirror_mode": {
    "name": "ipython",
    "version": 3
   },
   "file_extension": ".py",
   "mimetype": "text/x-python",
   "name": "python",
   "nbconvert_exporter": "python",
   "pygments_lexer": "ipython3",
   "version": "3.10.9"
  },
  "orig_nbformat": 4
 },
 "nbformat": 4,
 "nbformat_minor": 2
}
