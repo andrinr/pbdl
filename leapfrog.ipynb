{
 "cells": [
  {
   "attachments": {},
   "cell_type": "markdown",
   "metadata": {},
   "source": [
    "# Differentiable Physics\n",
    "\n",
    "## Forward Integration of Newton's Equations of Motion\n",
    "\n",
    "Given a particle with:\n",
    "\n",
    "- position $x$ \n",
    "- mass $m$ \n",
    "- velocity $v$ = $\\frac{dx}{dt}$ \n",
    "- acceleration $a$ = $\\frac{dv}{dt}$ = $\\frac{d^2x}{dt^2}$\n",
    "- force $F$ \n",
    "\n",
    "For a simple example, we apply the second motion $ F = m \\frac{d^2 x}{dt^2} $ along with Hooke's Law $F(x) = -k x$. This results in the following differential equation:\n",
    "\n",
    "$$ m a = -k x \\\\\n",
    "\\frac{d^2x}{dt^2} = \\frac{-k}{m} x$$\n",
    "\n",
    "In order to solve such an ODE numerically, we discretize the time $t$ into steps $\\Delta t$. Therefore we add a time index $i$ to the variables $x$, $v$ and $a$:\n",
    "\n",
    "$$ x_i = x(t_i) \\\\\n",
    "v_i = v(t_i) \\\\\n",
    "a_i = a(t_i) $$\n",
    "\n",
    "$$ \\Delta t = t_{i+1} - t_i $$\n"
   ]
  },
  {
   "attachments": {},
   "cell_type": "markdown",
   "metadata": {},
   "source": [
    "We can use the taylor expansion to approximate the positions:\n",
    "\n",
    "$$ x_{i+1} = x_i + \\Delta t \\frac{dx}{dt} + \\frac{\\Delta t^2}{2} \\frac{d^2x}{dt^2} \\mathcal{O}(\\Delta t^3) $$\n",
    "\n",
    "And the velocities:\n",
    "\n",
    "$$ v_{i+1} = v_i + \\Delta t \\frac{dv}{dt} + \\mathcal{O}(\\Delta t^2) $$\n",
    "\n",
    "This taylor series builds the foundation for many numerical integrators such as the Euler method, the Runge-Kutta method or the Leapfrog method."
   ]
  },
  {
   "attachments": {},
   "cell_type": "markdown",
   "metadata": {},
   "source": [
    "We will focus on the velocity verlet method:\n",
    "\n",
    "$$ x_{i+1} = x_i + v_i \\Delta t + \\frac{1}{2} a_i \\Delta t^2 \\\\\n",
    "v_{i+1} = v_i + \\frac{1}{2} (a_i + a_{i+1}) \\Delta t $$"
   ]
  },
  {
   "attachments": {},
   "cell_type": "markdown",
   "metadata": {},
   "source": [
    "## Backward Integration of Newton's Equations of Motion\n",
    "\n",
    "In order to make the integration of the equations of motion differentiable, we need to find the gradient of the solver with respect to its input. Lets denote the state of system at point $i$ as $s_i = (x_i, v_i)$. The solver $P$ is a function that takes the state $s_i$ and returns the state $s_{i+1}$:\n",
    "\n",
    "$$ s_{i+1} = P(s_i) $$\n",
    "\n",
    "which allows us to find the state of the system at any point in time with an initial state $s_0$:\n",
    "\n",
    "$$ s_{n} = P_n \\circ P_{n-1} \\circ \\dots \\circ P_1(s_0) $$\n",
    "\n",
    "Instead of a forward simulation, we are interested in finding $s_0$ given $s_n$. This is the inverse problem of the forward simulation. \n"
   ]
  },
  {
   "attachments": {},
   "cell_type": "markdown",
   "metadata": {},
   "source": []
  },
  {
   "attachments": {},
   "cell_type": "markdown",
   "metadata": {},
   "source": []
  }
 ],
 "metadata": {
  "language_info": {
   "name": "python"
  },
  "orig_nbformat": 4
 },
 "nbformat": 4,
 "nbformat_minor": 2
}
