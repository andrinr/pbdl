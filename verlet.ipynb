{
 "cells": [
  {
   "attachments": {},
   "cell_type": "markdown",
   "metadata": {},
   "source": [
    "# Differentiable Physics\n",
    "\n",
    "## Forward Integration of Newton's Equations of Motion\n",
    "\n",
    "Given a particle with:\n",
    "\n",
    "- position $x$ \n",
    "- mass $m$ \n",
    "- velocity $v$ = $\\frac{dx}{dt}$ \n",
    "- acceleration $a$ = $\\frac{dv}{dt}$ = $\\frac{d^2x}{dt^2}$\n",
    "- force $F$ \n",
    "\n",
    "For a simple example, we apply the second motion $ F = m \\frac{d^2 x}{dt^2} $ along with Hooke's Law $F(x) = -k x$. This results in the following differential equation:\n",
    "\n",
    "$$ m a = -k x \\\\\n",
    "\\frac{d^2x}{dt^2} = \\frac{-k}{m} x$$\n",
    "\n",
    "In order to solve such an ODE numerically, we discretize the time $t$ into steps $\\Delta t$. Therefore we add a time index $i$ to the variables $x$, $v$ and $a$:\n",
    "\n",
    "$$ x_i = x(t_i) \\\\\n",
    "v_i = v(t_i) \\\\\n",
    "a_i = a(t_i) $$\n",
    "\n",
    "$$ \\Delta t = t_{i+1} - t_i $$\n"
   ]
  },
  {
   "attachments": {},
   "cell_type": "markdown",
   "metadata": {},
   "source": [
    "We can use the taylor expansion to approximate the positions:\n",
    "\n",
    "$$ x_{i+1} = x_i + \\Delta t \\frac{dx}{dt} + \\frac{\\Delta t^2}{2} \\frac{d^2x}{dt^2} + \\mathcal{O}(\\Delta t^3) $$\n",
    "\n",
    "And the velocities:\n",
    "\n",
    "$$ v_{i+1} = v_i + \\Delta t \\frac{dv}{dt} + \\mathcal{O}(\\Delta t^2) $$\n",
    "\n",
    "This taylor series builds the foundation for many numerical integrators such as the Euler method, the Runge-Kutta method or the Leapfrog method."
   ]
  },
  {
   "attachments": {},
   "cell_type": "markdown",
   "metadata": {},
   "source": [
    "In this notebook we focus on the velocity verlet method:\n",
    "\n",
    "$$ x_{i+1} = x_i + v_i \\Delta t + \\frac{1}{2} a_i \\Delta t^2 \\\\\n",
    "v_{i+1} = v_i + \\frac{1}{2} (a_i + a_{i+1}) \\Delta t $$"
   ]
  },
  {
   "attachments": {},
   "cell_type": "markdown",
   "metadata": {},
   "source": [
    "## Differentiable Physics\n",
    "\n",
    "In order to make the integration of the equations of motion differentiable, we need to find the gradient of the solver with respect to its input. Lets denote the state of system at point $i$ as $s_i = (x_i, v_i)$. The solver $P$ is a function that takes the state $s_i$ and returns the state $s_{i+1}$:\n",
    "\n",
    "$$ s_{i+1} = P(s_i) $$\n",
    "\n",
    "which allows us to find the state of the system at any point in time with an initial state $s_0$:\n",
    "\n",
    "$$ s_{n} = P_n \\circ P_{n-1} \\circ \\dots \\circ P_1(s_0) $$\n",
    "\n"
   ]
  },
  {
   "attachments": {},
   "cell_type": "markdown",
   "metadata": {},
   "source": [
    "A common task is given a desired enstate $s^*_n$ find $s_0$ such that $||s_n - s^*_n||^2$ is minimal. In theory we could simply use the inverse of the solver $P^{-1}$ to find $s_0$:\n",
    "\n",
    "$$ s_0 = P^{-1}_1 \\circ P^{-1}_2 \\circ \\dots \\circ P^{-1}_n(s^*_n) $$\n",
    "\n",
    "In practice however, this is oftentimes not possible since inverting the solver $P$ can come at great costs or its not even possible. **Why not?**\n",
    "\n",
    "However we can *always* find the gradient of the solver $P$ with respect to its input:\n",
    "\n",
    "$$\\frac{\\partial P}{\\partial s_i} $$\n",
    "\n",
    "This can become useful to propate the loss with respect to $s_0$, which is defined as:\n",
    "\n",
    "$$ L = || \\left( P_n \\circ P_{n-1} \\circ \\dots \\circ P_1(s_0) \\right) - s^*_n ||^2 $$\n",
    "\n",
    "backwards through the solvers:\n",
    "\n",
    "$$ \\frac{\\partial L}{\\partial s_0} = \\frac{\\partial L}{\\partial s_n} \\frac{\\partial s_n}{\\partial s_{n-1}} \\dots \\frac{\\partial s_1}{\\partial s_0} = \\frac{\\partial L}{\\partial s_n} \\frac{\\partial P_n}{\\partial s_{n-1}} \\dots \\frac{\\partial P_1}{\\partial s_0} $$\n",
    "\n",
    "Now the problem has been transformed into an optimization problem, where we can use gradient descent to iteratively improve $s_0$:\n",
    "\n",
    "$$ s_0 = s_0 - \\alpha \\frac{\\partial L}{\\partial s_0} $$\n",
    "\n",
    "where $\\alpha$ is the learning rate and $s_0$ can be set to all zeros initially.\n"
   ]
  },
  {
   "attachments": {},
   "cell_type": "markdown",
   "metadata": {},
   "source": [
    "## Differentiable Newtons Equations\n",
    "\n",
    "Let us now apply the principle of differentiable physics to the equations of motion. We start with the forward integration of the equations of motion:\n",
    "\n",
    "$$ x_{i+1} = x_i + v_i \\Delta t + \\frac{1}{2} a_i \\Delta t^2 \\\\ \n",
    "v_{i+1} = v_i + \\frac{1}{2} (a_i + a_{i+1}) \\Delta t $$\n",
    "\n",
    "Let us assume we have force which is only dependent on the position $F(x_i)$. The integration scheme can also be written as:\n",
    "\n",
    "$$ \\begin{bmatrix} x_{i+1} \\\\ v_{i+1} \\end{bmatrix} = \\begin{bmatrix} x_i \\\\ v_i \\end{bmatrix} + \\Delta t \\begin{bmatrix} v_i \\\\ 0.5 \\times (a_i + a_{i+1})\\end{bmatrix} + \\frac{\\Delta t^2}{2} \\begin{bmatrix} a_i \\\\ 0 \\end{bmatrix} $$\n",
    "\n",
    "We can express the numerical solver as function $P$ which takes the state $s_i$ or $\\begin{bmatrix} x_{i} \\\\ v_{i} \\end{bmatrix}$ and returns the state $s_{i+1}$:\n",
    "\n",
    "$$ \\begin{bmatrix} x_{i+1} \\\\ v_{i+1} \\end{bmatrix} = P \\left( \\begin{bmatrix} x_{i} \\\\ v_{i} \\end{bmatrix} \\right) = \\begin{bmatrix} x_i \\\\ v_i \\end{bmatrix} + \\Delta t \\begin{bmatrix} v_i \\\\ 0.5 \\times (a_i + a_{i+1})\\end{bmatrix} + \\frac{\\Delta t^2}{2}\\begin{bmatrix} a_i \\\\ 0 \\end{bmatrix} $$\n"
   ]
  },
  {
   "attachments": {},
   "cell_type": "markdown",
   "metadata": {},
   "source": [
    "We can now find the gradient of the solver $P$ with respect to its input $s_i$:\n",
    "\n",
    "$$ \\frac{\\partial P(s_i)}{\\partial s_i} = \\begin{bmatrix} \\frac{\\partial P(s_i)}{\\partial x_i} & \\frac{\\partial P(s_i)}{\\partial v_i} \\end{bmatrix}\n",
    "\n",
    "= \\begin{bmatrix} 1 + \\frac{\\Delta t ^2}{2m} \\frac{\\partial F(x_i)}{\\partial x_i } & \\Delta t \n",
    "\\\\ \\frac{\\Delta t}{2m} \\left( \\frac{\\partial F(x_i)}{\\partial x_i}  + \\frac{\\partial F(x_{i+1})}{\\partial x_{i}} \\right) & 1 \\end{bmatrix}$$\n",
    "\n",
    "Let us now program this in python. "
   ]
  },
  {
   "cell_type": "code",
   "execution_count": 1,
   "metadata": {},
   "outputs": [],
   "source": [
    "import numpy as np\n",
    "from typing import Callable\n",
    "\n",
    "class Verlet: \n",
    "\n",
    "    def __init__(self, F : Callable, dFdx : Callable) -> None:\n",
    "        self.F = F\n",
    "        self.dFdx = dFdx\n",
    "\n",
    "    def forward(self, x : np.ndarray, v : np.ndarray, dt : float, m : float) -> tuple[np.ndarray, np.ndarray]:\n",
    "        dt2 = dt * dt\n",
    "        x_fwd = x + v * dt + 0.5 * self.F(x) / m * dt2\n",
    "        v_fwd = v + 0.5 * (self.F(x) + self.F(x_fwd)) * dt / m\n",
    "\n",
    "        # cache for backward pass\n",
    "        self.cache_x = x\n",
    "        self.cache_v = v\n",
    "        self.cache_x_fwd = x_fwd\n",
    "        self.m = m\n",
    "\n",
    "        return x_fwd, v_fwd\n",
    "    \n",
    "    def backward(self, grad_x : np.ndarray, grad_v : np.ndarray, dt : float) -> tuple[np.ndarray, np.ndarray]:\n",
    "        dt2 = dt * dt / 2\n",
    "        dt1 = dt / 2 \n",
    "        grad_x = (1 + dt2 / self.m * self.dFdx(self.cache_x)) * grad_x + dt1 * grad_v\n",
    "        grad_v = (dt1 / self.m * (self.dFdx(self.cache_x) + self.dFdx(self.cache_x_fwd))) * grad_v + grad_v\n",
    "        \n",
    "        return grad_x, grad_v\n",
    "\n",
    "\n"
   ]
  },
  {
   "cell_type": "code",
   "execution_count": 59,
   "metadata": {},
   "outputs": [],
   "source": [
    "import matplotlib.pyplot as plt\n",
    "plt.rcParams[\"animation.html\"] = \"html5\"\n",
    "from IPython.display import HTML\n",
    "import matplotlib.animation\n",
    "\n",
    "def simulate(n : int, dt : float):\n",
    "\n",
    "    x = np.array([1, 0])\n",
    "    v = np.array([0, 1])\n",
    "\n",
    "    m = 1\n",
    "    P_cache = []\n",
    "\n",
    "    for i in range(n):\n",
    "        P = Verlet(lambda x : -x, lambda x : -1)\n",
    "        x, v = P.forward(x, v, dt, m)\n",
    "        P_cache.append(P)\n",
    "\n",
    "    return x, v, P_cache"
   ]
  },
  {
   "cell_type": "code",
   "execution_count": 109,
   "metadata": {},
   "outputs": [],
   "source": [
    "def display(P_cache : list[Verlet]):\n",
    "    fig, ax = plt.subplots(figsize=(6,5))\n",
    "\n",
    "    ax.set_xlim(-1.5, 1.5)\n",
    "    ax.set_ylim(-1.5, 1.5)\n",
    "\n",
    "    xs = np.zeros((len(P_cache), 2))\n",
    "    t = np.zeros(len(P_cache))\n",
    "\n",
    "    for i in range(len(P_cache)):\n",
    "        xs[i,:] = P_cache[i].cache_x\n",
    "        t[i] = i\n",
    "\n",
    "    scatter = ax.scatter(xs[:,0], xs[:,1], cmap=\"Reds\", c=t, s=5, marker=\"o\")\n",
    "            \n",
    "    ax.set_title(\"Verlet Integration\")\n",
    "    ax.set_xlabel(\"x\")\n",
    "    ax.set_ylabel(\"y\")\n",
    "    fig.colorbar(scatter, ax=ax)"
   ]
  },
  {
   "cell_type": "code",
   "execution_count": 110,
   "metadata": {},
   "outputs": [
    {
     "data": {
      "image/png": "[encoded data removed]",
      "text/plain": [
       "<Figure size 600x500 with 2 Axes>"
      ]
     },
     "metadata": {},
     "output_type": "display_data"
    }
   ],
   "source": [
    "x, v, P_cache = simulate(100, 0.03)\n",
    "\n",
    "display(P_cache)\n",
    "\n"
   ]
  },
  {
   "cell_type": "code",
   "execution_count": 4,
   "metadata": {},
   "outputs": [
    {
     "ename": "TypeError",
     "evalue": "Verlet.forward() missing 1 required positional argument: 'm'",
     "output_type": "error",
     "traceback": [
      "\u001b[0;31m---------------------------------------------------------------------------\u001b[0m",
      "\u001b[0;31mTypeError\u001b[0m                                 Traceback (most recent call last)",
      "Cell \u001b[0;32mIn[4], line 26\u001b[0m\n\u001b[1;32m     23\u001b[0m verlet \u001b[39m=\u001b[39m Verlet(F, dFdx)\n\u001b[1;32m     25\u001b[0m \u001b[39mfor\u001b[39;00m i \u001b[39min\u001b[39;00m \u001b[39mrange\u001b[39m(n):\n\u001b[0;32m---> 26\u001b[0m     x, v \u001b[39m=\u001b[39m verlet\u001b[39m.\u001b[39;49mforward(x_0, v_0, \u001b[39m0.1\u001b[39;49m)\n\u001b[1;32m     27\u001b[0m     x_0 \u001b[39m=\u001b[39m x\n\u001b[1;32m     28\u001b[0m     v_0 \u001b[39m=\u001b[39m v\n",
      "\u001b[0;31mTypeError\u001b[0m: Verlet.forward() missing 1 required positional argument: 'm'"
     ]
    }
   ],
   "source": [
    "n = 100\n",
    "\n",
    "# Desired final particle position and velocity \n",
    "x_n_star = np.array([3, 3])\n",
    "v_n_star = np.array([0, 0])\n",
    "\n",
    "def loss(approximation : np.ndarray, desired : np.ndarray) -> float:\n",
    "    return np.linalg.norm(approximation - desired)\n",
    "\n",
    "# Force function (gravity)\n",
    "def F(x : np.ndarray) -> np.ndarray:\n",
    "    return np.array([0, -9.81])\n",
    "\n",
    "# Derivative of the force function (gravity)\n",
    "def dFdx(x : np.ndarray) -> np.ndarray:\n",
    "    return np.array([[0, 0], [0, 0]])\n",
    "\n",
    "# Guess initial particle position and velocity\n",
    "x_0 = np.array([0, 0])\n",
    "v_0 = np.array([0, 0])\n",
    "\n",
    "# Initialize Verlet integrator\n",
    "verlet = Verlet(F, dFdx)\n",
    "\n",
    "for i in range(n):\n",
    "    x, v = verlet.forward(x_0, v_0, 0.1)\n",
    "    x_0 = x\n",
    "    v_0 = v\n"
   ]
  },
  {
   "cell_type": "code",
   "execution_count": null,
   "metadata": {},
   "outputs": [],
   "source": []
  }
 ],
 "metadata": {
  "kernelspec": {
   "display_name": "pbdl",
   "language": "python",
   "name": "python3"
  },
  "language_info": {
   "codemirror_mode": {
    "name": "ipython",
    "version": 3
   },
   "file_extension": ".py",
   "mimetype": "text/x-python",
   "name": "python",
   "nbconvert_exporter": "python",
   "pygments_lexer": "ipython3",
   "version": "3.10.9"
  },
  "orig_nbformat": 4
 },
 "nbformat": 4,
 "nbformat_minor": 2
}
