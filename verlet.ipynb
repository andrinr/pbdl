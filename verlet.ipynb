{
 "cells": [
  {
   "attachments": {},
   "cell_type": "markdown",
   "metadata": {},
   "source": [
    "# Differentiable Physics I:  Verlet Integration\n",
    "\n",
    "## Forward Integration of Newton's Equations of Motion\n",
    "\n",
    "Given a particle with:\n",
    "\n",
    "- position $x$ \n",
    "- mass $m$ \n",
    "- velocity $v$ = $\\frac{dx}{dt}$ \n",
    "- acceleration $a$ = $\\frac{dv}{dt}$ = $\\frac{d^2x}{dt^2}$\n",
    "- force $F$ \n",
    "\n",
    "For a simple example, we apply the second motion $ F = m \\frac{d^2 x}{dt^2} $ along with Hooke's Law $F(x) = -k x$. This results in the following differential equation:\n",
    "\n",
    "$$ m a = -k x \\\\\n",
    "\\frac{d^2x}{dt^2} = \\frac{-k}{m} x$$\n",
    "\n",
    "In order to solve such an ODE numerically, we discretize the time $t$ into steps $\\Delta t$. Therefore we add a time index $i$ to the variables $x$, $v$ and $a$:\n",
    "\n",
    "$$ x_i = x(t_i) \\\\\n",
    "v_i = v(t_i) \\\\\n",
    "a_i = a(t_i) $$\n",
    "\n",
    "$$ \\Delta t = t_{i+1} - t_i $$\n"
   ]
  },
  {
   "attachments": {},
   "cell_type": "markdown",
   "metadata": {},
   "source": [
    "We can use the taylor expansion to approximate the positions:\n",
    "\n",
    "$$ x_{i+1} = x_i + \\Delta t \\frac{dx}{dt} + \\frac{\\Delta t^2}{2} \\frac{d^2x}{dt^2} + \\mathcal{O}(\\Delta t^3) $$\n",
    "\n",
    "And the velocities:\n",
    "\n",
    "$$ v_{i+1} = v_i + \\Delta t \\frac{dv}{dt} + \\mathcal{O}(\\Delta t^2) $$\n",
    "\n",
    "This taylor series builds the foundation for many numerical integrators such as the Euler method, the Runge-Kutta method or the Leapfrog method."
   ]
  },
  {
   "attachments": {},
   "cell_type": "markdown",
   "metadata": {},
   "source": [
    "In this notebook we focus on the velocity verlet method:\n",
    "\n",
    "$$ x_{i+1} = x_i + v_i \\Delta t + \\frac{1}{2} a_i \\Delta t^2 \\\\\n",
    "v_{i+1} = v_i + \\frac{1}{2} (a_i + a_{i+1}) \\Delta t $$"
   ]
  },
  {
   "attachments": {},
   "cell_type": "markdown",
   "metadata": {},
   "source": [
    "## Differentiable Physics\n",
    "\n",
    "In order to make the integration of the equations of motion differentiable, we need to find the gradient of the solver with respect to its input. Lets denote the state of system at point $i$ as $s_i = (x_i, v_i)$. The solver $P$ is a function that takes the state $s_i$ and returns the state $s_{i+1}$:\n",
    "\n",
    "$$ s_{i+1} = P(s_i) $$\n",
    "\n",
    "which allows us to find the state of the system at any point in time with an initial state $s_0$:\n",
    "\n",
    "$$ s_{n} = P_n \\circ P_{n-1} \\circ \\dots \\circ P_1(s_0) $$\n",
    "\n"
   ]
  },
  {
   "attachments": {},
   "cell_type": "markdown",
   "metadata": {},
   "source": [
    "A common task is given a desired enstate $s^*_n$ find $s_0$ such that $||s_n - s^*_n||^2$ is minimal. In theory we could simply use the inverse of the solver $P^{-1}$ to find $s_0$:\n",
    "\n",
    "$$ s_0 = P^{-1}_1 \\circ P^{-1}_2 \\circ \\dots \\circ P^{-1}_n(s^*_n) $$\n",
    "\n",
    "In practice however, this is oftentimes not possible since inverting the solver $P$ can come at great costs or its not even possible. **Why not?**\n",
    "\n",
    "However we can *always* find the gradient of the solver $P$ with respect to its input:\n",
    "\n",
    "$$\\frac{\\partial P}{\\partial s_i} $$\n",
    "\n",
    "This can become useful to propate the loss with respect to $s_0$, which is defined as:\n",
    "\n",
    "$$ L = || \\left( P_n \\circ P_{n-1} \\circ \\dots \\circ P_1(s_0) \\right) - s^*_n ||^2 $$\n",
    "\n",
    "backwards through the solvers:\n",
    "\n",
    "$$ \\frac{\\partial L}{\\partial s_0} = \\frac{\\partial L}{\\partial s_n} \\frac{\\partial s_n}{\\partial s_{n-1}} \\dots \\frac{\\partial s_1}{\\partial s_0} = \\frac{\\partial L}{\\partial s_n} \\frac{\\partial P_n}{\\partial s_{n-1}} \\dots \\frac{\\partial P_1}{\\partial s_0} $$\n",
    "\n",
    "Now the problem has been transformed into an optimization problem, where we can use gradient descent to iteratively improve $s_0$:\n",
    "\n",
    "$$ s_0 = s_0 - \\alpha \\frac{\\partial L}{\\partial s_0} $$\n",
    "\n",
    "where $\\alpha$ is the learning rate and $s_0$ can be set to all zeros initially.\n"
   ]
  },
  {
   "attachments": {},
   "cell_type": "markdown",
   "metadata": {},
   "source": [
    "## Differentiable Newtons Equations\n",
    "\n",
    "Let us now apply the principle of differentiable physics to the equations of motion. We start with the forward integration of the equations of motion:\n",
    "\n",
    "$$ x_{i+1} = x_i + v_i \\Delta t + \\frac{1}{2} a_i \\Delta t^2 \\\\ \n",
    "v_{i+1} = v_i + \\frac{1}{2} (a_i + a_{i+1}) \\Delta t $$\n",
    "\n",
    "Let us assume we have force which is only dependent on the position $F(x_i)$. The integration scheme can also be written as:\n",
    "\n",
    "$$ \\begin{bmatrix} x_{i+1} \\\\ v_{i+1} \\end{bmatrix} = \\begin{bmatrix} x_i \\\\ v_i \\end{bmatrix} + \\Delta t \\begin{bmatrix} v_i \\\\ 0.5 \\times (a_i + a_{i+1})\\end{bmatrix} + \\frac{\\Delta t^2}{2} \\begin{bmatrix} a_i \\\\ 0 \\end{bmatrix} $$\n",
    "\n",
    "We can express the numerical solver as function $P$ which takes the state $s_i$ or $\\begin{bmatrix} x_{i} \\\\ v_{i} \\end{bmatrix}$ and returns the state $s_{i+1}$:\n",
    "\n",
    "$$ \\begin{bmatrix} x_{i+1} \\\\ v_{i+1} \\end{bmatrix} = P \\left( \\begin{bmatrix} x_{i} \\\\ v_{i} \\end{bmatrix} \\right) = \\begin{bmatrix} x_i \\\\ v_i \\end{bmatrix} + \\Delta t \\begin{bmatrix} v_i \\\\ 0.5 \\times (a_i + a_{i+1})\\end{bmatrix} + \\frac{\\Delta t^2}{2}\\begin{bmatrix} a_i \\\\ 0 \\end{bmatrix} $$\n"
   ]
  },
  {
   "attachments": {},
   "cell_type": "markdown",
   "metadata": {},
   "source": [
    "We can now find the gradient of the solver $P$ with respect to its input $s_i$:\n",
    "\n",
    "$$ \\frac{\\partial P(s_i)}{\\partial s_i} = \\begin{bmatrix} \\frac{\\partial P(s_i)}{\\partial x_i} & \\frac{\\partial P(s_i)}{\\partial v_i} \\end{bmatrix}\n",
    "\n",
    "= \\begin{bmatrix} 1 + \\frac{\\Delta t ^2}{2m} \\frac{\\partial F(x_i)}{\\partial x_i } & \\Delta t \n",
    "\\\\ \\frac{\\Delta t}{2m} \\left( \\frac{\\partial F(x_i)}{\\partial x_i}  + \\frac{\\partial F(x_{i+1})}{\\partial x_{i}} \\right) & 1 \\end{bmatrix}$$\n",
    "\n",
    "Let us now program this in python. "
   ]
  },
  {
   "attachments": {},
   "cell_type": "markdown",
   "metadata": {},
   "source": [
    "## Python Implementation\n",
    "\n",
    "### Verlet Solver\n",
    "\n",
    "We implement the backward and forward integration of the verlet solver in python:\n"
   ]
  },
  {
   "cell_type": "code",
   "execution_count": 159,
   "metadata": {},
   "outputs": [],
   "source": [
    "import numpy as np\n",
    "from typing import Callable\n",
    "\n",
    "class Verlet: \n",
    "\n",
    "    def __init__(self, F : Callable, dFdx : Callable) -> None:\n",
    "        self.F = F\n",
    "        self.dFdx = dFdx\n",
    "\n",
    "    def forward(self, x : np.ndarray, v : np.ndarray, dt : float, m : float) -> tuple[np.ndarray, np.ndarray]:\n",
    "        dt2 = dt * dt\n",
    "        x_fwd = x + v * dt + 0.5 * self.F(x) / m * dt2\n",
    "        v_fwd = v + 0.5 * (self.F(x) + self.F(x_fwd)) * dt / m\n",
    "\n",
    "        # cache for backward pass\n",
    "        self.cache_x = x\n",
    "        self.cache_v = v\n",
    "        self.cache_x_fwd = x_fwd\n",
    "        self.m = m\n",
    "        self.dt = dt\n",
    "\n",
    "        return x_fwd, v_fwd\n",
    "    \n",
    "    def backward(self, grad_x : np.ndarray, grad_v : np.ndarray) -> tuple[np.ndarray, np.ndarray]:\n",
    "        dt2 = self.dt * self.dt / 2\n",
    "        dt1 = self.dt / 2 \n",
    "        grad_x = (1 + dt2 / self.m * self.dFdx(self.cache_x)) * grad_x + dt1 * grad_v\n",
    "        grad_v = (dt1 / self.m * (self.dFdx(self.cache_x) + self.dFdx(self.cache_x_fwd))) * grad_v + grad_v\n",
    "        \n",
    "        return grad_x, grad_v\n",
    "\n",
    "\n"
   ]
  },
  {
   "attachments": {},
   "cell_type": "markdown",
   "metadata": {},
   "source": [
    "A simple simulation loop computes the trajectory of a particle under the influence of a force field. "
   ]
  },
  {
   "cell_type": "code",
   "execution_count": 121,
   "metadata": {},
   "outputs": [],
   "source": [
    "def simulate(x0 : np.ndarray, v0 : np.ndarray, F : Callable, dFdx : Callable, n : int, dt : float):\n",
    "    x = x0\n",
    "    v = v0\n",
    "\n",
    "    m = 1\n",
    "    P_cache = []\n",
    "\n",
    "    for i in range(n):\n",
    "        P = Verlet(F, dFdx)\n",
    "        x, v = P.forward(x, v, dt, m)\n",
    "        P_cache.append(P)\n",
    "\n",
    "    return x, v, P_cache"
   ]
  },
  {
   "attachments": {},
   "cell_type": "markdown",
   "metadata": {},
   "source": [
    "### Forward Integration\n",
    "\n",
    "We define some helpers function for plotting and collecting the data."
   ]
  },
  {
   "cell_type": "code",
   "execution_count": 134,
   "metadata": {},
   "outputs": [],
   "source": [
    "import matplotlib.pyplot as plt\n",
    "\n",
    "def get_timeline(P_cache : list[Verlet]) -> np.ndarray:\n",
    "    xs = np.zeros((len(P_cache), 2))\n",
    "    t = np.zeros(len(P_cache))\n",
    "    for i in range(len(P_cache)):\n",
    "        xs[i,:] = P_cache[i].cache_x\n",
    "        t[i] = i\n",
    "    return xs, t\n",
    "\n",
    "def display(P_cache : list[Verlet], title : str):\n",
    "    fig, ax = plt.subplots(figsize=(6,5))\n",
    "\n",
    "    ax.set_xlim(-1.5, 1.5)\n",
    "    ax.set_ylim(-1.5, 1.5)\n",
    "\n",
    "    xs, t = get_timeline(P_cache)\n",
    "\n",
    "    scatter = ax.scatter(xs[:,0], xs[:,1], cmap=\"Reds\", c=t, s=5, marker=\"o\")\n",
    "            \n",
    "    ax.set_title(title)\n",
    "    ax.set_xlabel(\"x\")\n",
    "    ax.set_ylabel(\"y\")\n",
    "    cbar = fig.colorbar(scatter, ax=ax)\n",
    "    cbar.set_label(\"iteration\")"
   ]
  },
  {
   "attachments": {},
   "cell_type": "markdown",
   "metadata": {},
   "source": [
    "We show the trajectory of the particle with a force field $F(x) = -x$."
   ]
  },
  {
   "cell_type": "code",
   "execution_count": 153,
   "metadata": {},
   "outputs": [
    {
     "data": {
      "image/png": "[encoded data removed]",
      "text/plain": [
       "<Figure size 600x500 with 2 Axes>"
      ]
     },
     "metadata": {},
     "output_type": "display_data"
    }
   ],
   "source": [
    "# Define a force \n",
    "F = lambda x : -x\n",
    "dFdx = lambda x : -1\n",
    "\n",
    "# initial position and velocity\n",
    "x0 = np.array([1, 0])\n",
    "v0 = np.array([0, 1])\n",
    "\n",
    "x, v, P_cache = simulate(x0, v0, F, dFdx, 100, 0.03)\n",
    "\n",
    "display(P_cache, \"Verlet\")"
   ]
  },
  {
   "attachments": {},
   "cell_type": "markdown",
   "metadata": {},
   "source": [
    "### Inverse Problem\n",
    "\n",
    "Let us now try to solve the inverse problem of finding the initial state $s_0$ given a desired endstate $s^*_n$:"
   ]
  },
  {
   "cell_type": "code",
   "execution_count": 161,
   "metadata": {},
   "outputs": [],
   "source": [
    "# Define a force \n",
    "F = lambda x : -x\n",
    "dFdx = lambda x : -1\n",
    "\n",
    "# Make a guess for initial position and velocity\n",
    "x0_guess = np.array([0, -0.5])\n",
    "v0_guess = np.array([1, 0])\n",
    "\n",
    "xn_star = np.array([1, 1])\n",
    "vn_star = np.array([0, 1])\n",
    "\n",
    "n_iterations = 100\n",
    "dt = 0.03\n"
   ]
  },
  {
   "attachments": {},
   "cell_type": "markdown",
   "metadata": {},
   "source": [
    "A visual inspection of the setup shows how the trajectory of the initial state $s_0$ is far away from the desired endstate $s^*_n$ when simulated forward in time."
   ]
  },
  {
   "cell_type": "code",
   "execution_count": 162,
   "metadata": {},
   "outputs": [
    {
     "data": {
      "text/plain": [
       "<matplotlib.legend.Legend at 0x7fdd6ce96d70>"
      ]
     },
     "execution_count": 162,
     "metadata": {},
     "output_type": "execute_result"
    },
    {
     "data": {
      "image/png": "[encoded data removed]",
      "text/plain": [
       "<Figure size 500x500 with 1 Axes>"
      ]
     },
     "metadata": {},
     "output_type": "display_data"
    }
   ],
   "source": [
    "x, v, P_cache = simulate(x0_guess, v0_guess, F, dFdx, n_iterations, 0.03)\n",
    "\n",
    "plt.figure(figsize=(5,5))\n",
    "plt.grid()\n",
    "\n",
    "plt.xlim(-3, 3)\n",
    "plt.ylim(-3, 3)\n",
    "\n",
    "plt.arrow(x0_guess[0], x0_guess[1], v0_guess[0], v0_guess[1], color=\"blue\", width=0.03, head_width=0.1)\n",
    "plt.arrow(xn_star[0], xn_star[1], vn_star[0], vn_star[1], color=\"green\", width=0.03, head_width=0.1)\n",
    "\n",
    "xs, t = get_timeline(P_cache)\n",
    "plt.scatter(xs[:,0], xs[:,1], c=\"black\", s=1, marker=\"o\")\n",
    "\n",
    "plt.legend([\"guess for initial state\", \"target state\", \"forward trajectory\"])"
   ]
  },
  {
   "attachments": {},
   "cell_type": "markdown",
   "metadata": {},
   "source": [
    "To quantify the distance between the simulated endstate and the desired endstate we use the squared distance as loss function:"
   ]
  },
  {
   "cell_type": "code",
   "execution_count": 164,
   "metadata": {},
   "outputs": [
    {
     "ename": "UFuncTypeError",
     "evalue": "Cannot cast ufunc 'subtract' output from dtype('float64') to dtype('int64') with casting rule 'same_kind'",
     "output_type": "error",
     "traceback": [
      "\u001b[0;31m---------------------------------------------------------------------------\u001b[0m",
      "\u001b[0;31mUFuncTypeError\u001b[0m                            Traceback (most recent call last)",
      "Cell \u001b[0;32mIn[164], line 18\u001b[0m\n\u001b[1;32m     16\u001b[0m grad_x, grad_v \u001b[39m=\u001b[39m P\u001b[39m.\u001b[39mbackward(\u001b[39m2\u001b[39m \u001b[39m*\u001b[39m (xn \u001b[39m-\u001b[39m xn_star), \u001b[39m2\u001b[39m \u001b[39m*\u001b[39m (vn \u001b[39m-\u001b[39m vn_star))\n\u001b[1;32m     17\u001b[0m x0 \u001b[39m-\u001b[39m\u001b[39m=\u001b[39m learning_rate \u001b[39m*\u001b[39m grad_x\n\u001b[0;32m---> 18\u001b[0m v0 \u001b[39m-\u001b[39m\u001b[39m=\u001b[39m learning_rate \u001b[39m*\u001b[39m grad_v\n",
      "\u001b[0;31mUFuncTypeError\u001b[0m: Cannot cast ufunc 'subtract' output from dtype('float64') to dtype('int64') with casting rule 'same_kind'"
     ]
    }
   ],
   "source": [
    "loss = lambda estimate, target : np.sum((estimate - target) ** 2)\n",
    "\n",
    "x0 = x0_guess\n",
    "v0 = v0_guess\n",
    "\n",
    "learning_rate = 0.1\n",
    "\n",
    "for i in range(10):\n",
    "    \n",
    "    xn, vn, P_cache = simulate(x0, v0, F, dFdx, n_iterations, dt)\n",
    "\n",
    "    lx = loss(xn_star, xn)\n",
    "    lv = loss(vn_star, vn)\n",
    "\n",
    "    for P in reversed(P_cache):\n",
    "        grad_x, grad_v = P.backward(2 * (xn - xn_star), 2 * (vn - vn_star))\n",
    "        x0 -= learning_rate * grad_x\n",
    "        v0 -= learning_rate * grad_v\n",
    "\n",
    "\n"
   ]
  },
  {
   "cell_type": "code",
   "execution_count": null,
   "metadata": {},
   "outputs": [],
   "source": []
  }
 ],
 "metadata": {
  "kernelspec": {
   "display_name": "pbdl",
   "language": "python",
   "name": "python3"
  },
  "language_info": {
   "codemirror_mode": {
    "name": "ipython",
    "version": 3
   },
   "file_extension": ".py",
   "mimetype": "text/x-python",
   "name": "python",
   "nbconvert_exporter": "python",
   "pygments_lexer": "ipython3",
   "version": "3.10.9"
  },
  "orig_nbformat": 4
 },
 "nbformat": 4,
 "nbformat_minor": 2
}
