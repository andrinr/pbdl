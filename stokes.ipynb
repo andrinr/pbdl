{
 "cells": [
  {
   "attachments": {},
   "cell_type": "markdown",
   "metadata": {},
   "source": [
    "# Differentiable Physics III: Navier Stokes Equations\n",
    "\n",
    "In this notebook we look at the navier stokes equations and how to solve them numerically. The number of numerical methods for solving the navier stokes equations is large. \n",
    "\n",
    "We will look only at pressure correction method.\n",
    "\n",
    "## Introduction\n",
    "We ignore any external forces and assume that the fluid is incompressible.\n",
    "\n",
    "Given:\n",
    "\n",
    "- $\\vec{v}$: velocity vector field with x / y components $u$ and $v$\n",
    "- $p$: pressure vector field\n",
    "- $\\rho$: density\n",
    "- $\\nu$: kinematic viscosity\n",
    "\n",
    "And:\n",
    "\n",
    "- $\\nabla$ is the gradient operator\n",
    "- $\\nabla^2$ or $\\Delta$ is the Laplacian operator\n"
   ]
  },
  {
   "attachments": {},
   "cell_type": "markdown",
   "metadata": {},
   "source": [
    "The equations for the incompressible Navier Stokes equations are:\n",
    "\n",
    "1. Momentum conservation:\n",
    "$$\\frac{\\partial \\mathbf{u}}{\\partial t} + \\vec{v} \\cdot \\nabla \\vec{v} = -\\frac{1}{\\rho} \\nabla p + \\nu \\Delta \\vec{v}$$\n",
    "\n",
    "2. Incompressibility or mass conservation:\n",
    "$$\\nabla \\cdot \\vec{v} = 0$$"
   ]
  },
  {
   "attachments": {},
   "cell_type": "markdown",
   "metadata": {},
   "source": [
    "We have the followin equivalence:\n",
    "\n",
    "$$ \\nabla \\cdot \\vec{v} = \\frac{\\partial u}{\\partial x} + \\frac{\\partial v}{\\partial y}$$\n",
    "\n",
    "And coresspondingly:\n",
    "\n",
    "$$ \\vec{v} \\nabla \\cdot \\vec{v} = u \\frac{\\partial u}{\\partial x} + v \\frac{\\partial v}{\\partial y}$$\n"
   ]
  },
  {
   "attachments": {},
   "cell_type": "markdown",
   "metadata": {},
   "source": [
    "As we are interested in the 2D case, we can write the equations as:\n",
    "\n",
    "$$\\frac{\\partial u}{\\partial t} + u \\frac{\\partial u}{\\partial x} + v \\frac{\\partial u}{\\partial y} = -\\frac{1}{\\rho} \\frac{\\partial p}{\\partial x} + \\nu \\left( \\frac{\\partial^2 u}{\\partial x^2} + \\frac{\\partial^2 u}{\\partial y^2} \\right) \\tag{1}$$\n",
    "\n",
    "$$\\frac{\\partial v}{\\partial t} + u \\frac{\\partial v}{\\partial x} + v \\frac{\\partial v}{\\partial y} = -\\frac{1}{\\rho} \\frac{\\partial p}{\\partial y} + \\nu \\left( \\frac{\\partial^2 v}{\\partial x^2} + \\frac{\\partial^2 v}{\\partial y^2} \\right) \\tag{2}$$"
   ]
  },
  {
   "attachments": {},
   "cell_type": "markdown",
   "metadata": {},
   "source": [
    "In the incompressible case the momentum conservation equation and the incompressibility equation are not coupled. We can couple them by taking the divergence of the momentum conservation equation and applying the incompressibility property:\n",
    "\n",
    "$$\\nabla \\left(\\frac{\\partial \\mathbf{u}}{\\partial t} + \\vec{v} \\cdot \\nabla \\vec{v}\\right) = \\nabla \\left( -\\frac{1}{\\rho} \\nabla p + \\nu \\Delta \\vec{v}  \\right)$$"
   ]
  },
  {
   "attachments": {},
   "cell_type": "markdown",
   "metadata": {},
   "source": [
    "On the LHS the term $\\nabla \\cdot \\vec{v}$ is zero, so we get:\n",
    "\n",
    "\n",
    "$$\\nabla \\left(\\vec{v} \\cdot \\nabla \\vec{v}\\right) = \\nabla \\left( -\\frac{1}{\\rho} \\nabla p + \\nu \\Delta \\vec{v} \\right)$$"
   ]
  },
  {
   "attachments": {},
   "cell_type": "markdown",
   "metadata": {},
   "source": [
    "On the RHS $\\nabla \\nu \\nabla^2 \\vec{v}$ is zero, so we get:\n",
    "\n",
    "$$\\nabla \\left(\\vec{v} \\cdot \\nabla \\vec{v}\\right) = \\nabla \\left( -\\frac{1}{\\rho} \\nabla p \\right) = -\\frac{1}{\\rho} \\Delta p$$"
   ]
  },
  {
   "attachments": {},
   "cell_type": "markdown",
   "metadata": {},
   "source": [
    "Which we can rearange to:\n",
    "\n",
    "$$\\Delta p = -\\rho \\nabla \\left(\\vec{v} \\cdot \\nabla \\vec{v}\\right)$$"
   ]
  },
  {
   "attachments": {},
   "cell_type": "markdown",
   "metadata": {},
   "source": [
    "Which can be written in 2D as:\n",
    "\n",
    "$$\\frac{\\partial^2 p}{\\partial x^2} + \\frac{\\partial^2 p}{\\partial y^2} = -\\rho \\left(  \\frac{\\partial u}{\\partial x} \\frac{\\partial u}{\\partial x} + 2 \\frac{\\partial u}{\\partial y} \\frac{\\partial v}{\\partial x} + \\frac{\\partial v}{\\partial y} \\frac{\\partial v}{\\partial y} \\right) \\tag{3}$$\n"
   ]
  },
  {
   "attachments": {},
   "cell_type": "markdown",
   "metadata": {},
   "source": [
    "## Finite Difference Method and Discretization\n",
    "\n",
    "We can approximate the derivatives of a function $f$ with respect to $x$ and $y$ as using the **forward difference** method:\n",
    "\n",
    "$$\\frac{\\partial f}{\\partial x} \\approx \\frac{f(x + \\Delta x, y) - f(x, y)}{\\Delta x}$$\n",
    "\n",
    "When we use a uniform grid:\n",
    "\n",
    "$$\\frac{\\partial f}{\\partial x} \\approx \\frac{f_{i+1, j} - f_{i, j}}{\\Delta x}$$\n",
    "\n",
    "Analagously we can approximate the **backward difference** as:\n",
    "\n",
    "$$\\frac{\\partial f}{\\partial x} \\approx \\frac{f_{i, j} - f_{i-1, j}}{\\Delta x}$$\n",
    "\n",
    "And the **central difference** as:\n",
    "\n",
    "$$\\frac{\\partial f}{\\partial x} \\approx \\frac{f_{i+1, j} - f_{i-1, j}}{2 \\Delta x}$$\n",
    "\n",
    "We can compose these approximations to get the following approximations for the second derivatives. The **second order central difference**:\n",
    "\n",
    "$$\\frac{\\partial^2 f}{\\partial x^2} \\approx \\frac{f_{i+1, j} - 2 f_{i, j} + f_{i-1, j}}{\\Delta x^2}$$\n"
   ]
  },
  {
   "attachments": {},
   "cell_type": "markdown",
   "metadata": {},
   "source": [
    "Solvers for the Navier Stokes equations are usually based on the **projection method**. The projection method is based on the following steps:\n",
    "\n",
    "1. Solve the momentum equation for the intermediate velocity field $\\vec{v}^*$ using a forward time step:\n",
    "\n",
    "$$\\frac{\\vec{v}^* - \\vec{v}^n}{\\Delta t} = -\\frac{1}{\\rho} \\nabla p + \\nu \\Delta \\vec{v}^n$$\n",
    "\n",
    "2. Enforce the incompressibility condition by projecting the intermediate velocity field onto the space of divergence-free vector fields:\n",
    "\n",
    "$$\\vec{v}^{n+1} = \\vec{v}^* - \\nabla \\phi$$\n",
    "\n",
    "3. Solve the Poisson equation for the pressure field $\\phi$:\n",
    "\n",
    "$$\\Delta \\phi = \\frac{\\nabla \\cdot \\vec{v}^*}{\\Delta t}$$\n",
    "\n",
    "4. Update the pressure field:\n",
    "\n",
    "$$p^{n+1} = p^n + \\phi$$\n",
    "\n",
    "\n",
    "### Discretization of the Navier Stokes equations"
   ]
  },
  {
   "attachments": {},
   "cell_type": "markdown",
   "metadata": {},
   "source": [
    "## Lax Wendroff Method\n",
    "\n",
    "Generally we make use of the finite difference method to discretize the equations. For the partial derivatives we use the central difference method. For the time derivative we use the forward difference method.\n",
    "\n",
    "Therefore the gradient of a scalar field $f$ is:\n",
    "\n",
    "$$\\nabla f = \\left( \\frac{\\partial f}{\\partial x}, \\frac{\\partial f}{\\partial y} \\right) \\approx \\left( \\frac{f_{i+1,j} - f_{i-1,j}}{2 \\Delta x}, \\frac{f_{i,j+1} - f_{i,j-1}}{2 \\Delta y} \\right)$$\n"
   ]
  },
  {
   "attachments": {},
   "cell_type": "markdown",
   "metadata": {},
   "source": [
    "Lets discretize the u momentum conservation equation (1) (The v momentum conservation equation (2) is analogous):\n",
    "\n",
    "$$\\frac{u^{n+1}_{i,j} - u^n_{i,j}}{\\Delta t} + u^n_{i,j} \\frac{u^n_{i,j} - u^n_{i-1,j}}{\\Delta x} + v^n_{i,j} \\frac{u^n_{i,j} - u^n_{i,j-1}}{\\Delta y} = \\\\\n",
    "-\\frac{1}{\\rho} \\frac{p^{n+1}_{i+1,j} - p^{n+1}_{i-1,j}}{ 2\\Delta x} + \\nu \\left( \\frac{u^n_{i+1,j} - 2 u^n_{i,j} + u^n_{i-1,j}}{\\Delta x^2} + \\frac{u^n_{i,j+1} - 2 u^n_{i,j} + u^n_{i,j-1}}{\\Delta y^2} \\right)$$\n",
    "\n",
    "We can reformulate this equation to get an expression for $u^{n+1}_{i,j}$ (the only unknown in the equation):\n",
    "\n",
    "$$u^{n+1}_{i,j} = u^n_{i,j} - u^n_{i,j} \\frac{\\Delta t \\left( u^n_{i,j} - u^n_{i-1,j} \\right) }{\\Delta x} - v^n_{i,j} \\frac{\\Delta t \\left( u^n_{i,j} - u^n_{i,j-1} \\right) }{\\Delta y} - \\frac{\\Delta t \\left( p^{n+1}_{i+1,j} - p^{n+1}_{i-1,j} \\right)}{\\rho 2 \\Delta x} + \\frac{\\nu \\Delta t \\left( u^n_{i+1,j} - 2 u^n_{i,j} + u^n_{i-1,j} \\right)}{\\Delta x^2}  + \\frac{\\nu \\Delta t \\left( u^n_{i,j+1} - 2 u^n_{i,j} + u^n_{i,j-1} \\right)}{\\Delta y^2} $$\n",
    "\n"
   ]
  },
  {
   "attachments": {},
   "cell_type": "markdown",
   "metadata": {},
   "source": [
    "We can discretize the pressure Poisson equation (3) as follows:\n",
    "\n",
    "$$\\frac{p^{n+1}_{i+1,j} - 2 p^{n+1}_{i,j} + p^{n+1}_{i-1,j}}{\\Delta x^2} + \\frac{p^{n+1}_{i,j+1} - 2 p^{n+1}_{i,j} + p^{n+1}_{i,j-1}}{\\Delta y^2} = \\\\\n",
    "\n",
    "-\\rho \\biggl(  \\frac{1}{\\Delta t} \\Bigl(\\frac{u^n_{i+1,j} - u^n_{i-1,j}}{2 \\Delta x} + \\frac{u^n_{i,j+1} - u^n_{i,j-1}}{2 \\Delta y} \\Bigr)\n",
    "- \\Bigl(\\frac{u^n_{i+1,j} - u^n_{i-1,j}}{\\Delta x}\\Bigr)^2\n",
    "- 2 \\frac{u^n_{i,j+1} - u^n_{i,j-1}}{\\Delta y} \\frac{u^n_{i+1,j} - u^n_{i-1,j}}{\\Delta x}\n",
    "- \\Bigl(\\frac{u^n_{i,j+1} - u^n_{i,j-1}}{\\Delta y}\\Bigr)^2 \\biggr)$$\n"
   ]
  },
  {
   "attachments": {},
   "cell_type": "markdown",
   "metadata": {},
   "source": [
    "Which we can reformulate to get an expression for $p^{n}_{i,j}$ (the only unknown in the equation):\n",
    "\n",
    "$$p^{n}_{i,j} = \n",
    "- \\frac{\\rho \\Delta x^2 \\Delta y^2}{2 \\left( \\Delta x^2 + \\Delta y^2 \\right)} \\Biggl( \\frac{1}{\\Delta t}\\Bigl(\\frac{u^n_{i+1,j} - u^n_{i-1,j}}{2 \\Delta x} + \\frac{u^n_{i,j+1} - u^n_{i,j-1}}{2 \\Delta y} \\Bigr)\n",
    "- \\Bigl(\\frac{u^n_{i+1,j} - u^n_{i-1,j}}{\\Delta x}\\Bigr)^2\n",
    "- 2 \\frac{u^n_{i,j+1} - u^n_{i,j-1}}{\\Delta y} \\frac{u^n_{i+1,j} - u^n_{i-1,j}}{\\Delta x}\n",
    "- \\Bigl(\\frac{u^n_{i,j+1} - u^n_{i,j-1}}{\\Delta y}\\Bigr)^2 \\Biggr) + \\\\ \n",
    "\\frac{\\bigl(p^{n}_{i+1,j} + p^{n}_{i-1,j}\\bigr) \\Delta y^2 + \\bigl(p^{n}_{i,j+1} + p^{n}_{i,j-1  }\\bigr) \\Delta x^2}{2 \\bigl(\\Delta x^2 + \\Delta y^2 \\bigr)}$$\n",
    "\n",
    "\n"
   ]
  },
  {
   "attachments": {},
   "cell_type": "markdown",
   "metadata": {},
   "source": [
    "## MacCormack Method\n",
    "\n",
    "The MacCormack method is a predictor-corrector method. It is a two step method. In the first step we predict the values of the variables at the next time step. In the second step we correct the predicted values.\n",
    "\n"
   ]
  },
  {
   "attachments": {},
   "cell_type": "markdown",
   "metadata": {},
   "source": [
    "## Solving the equations\n",
    "\n",
    "We can solve the equations by iterating over the equations and solving them for the unknowns. We can use the Jacobi method to solve the equations. The Jacobi method is an iterative method that solves a system of linear equations by repeatedly replacing each diagonal element by the sum of the non-diagonal elements and the right hand side divided by the diagonal element. This method is guaranteed to converge if the matrix is diagonally dominant. The matrix of the discretized equations is diagonally dominant if the viscosity is sufficiently large. The Jacobi method is not the most efficient method to solve the equations, but it is easy to implement."
   ]
  },
  {
   "cell_type": "code",
   "execution_count": 8,
   "metadata": {},
   "outputs": [],
   "source": [
    "import jax.numpy as jnp\n",
    "from functools import partial\n",
    "from jax import jit\n",
    "\n",
    "@partial(jit, static_argnames='reflect')\n",
    "def get_surround(x, reflect : bool = True) -> tuple[jnp.ndarray, jnp.ndarray, jnp.ndarray, jnp.ndarray]:\n",
    "    x_l = jnp.roll(x, -1, axis=0)\n",
    "    x_r = jnp.roll(x, 1, axis=0)\n",
    "    x_b = jnp.roll(x, -1, axis=1)\n",
    "    x_t = jnp.roll(x, 1, axis=1)\n",
    "\n",
    "    if not reflect:\n",
    "        x_l = x_l.at[-1, :].set(0)\n",
    "        x_r = x_r.at[0, :].set(0)\n",
    "        x_b = x_b.at[:, -1].set(0)\n",
    "        x_t = x_t.at[:, 0].set(0)\n",
    "\n",
    "    return x_l, x_r, x_b, x_t"
   ]
  },
  {
   "cell_type": "code",
   "execution_count": 9,
   "metadata": {},
   "outputs": [],
   "source": [
    "@partial(jit, static_argnames=('dt', 'dx', 'dy'))\n",
    "def pressure_step(u : jnp.ndarray, p : jnp.ndarray, dx : float, dy : float, dt : float) -> jnp.ndarray:\n",
    "    u_l, u_r, u_b, u_t = get_surround(u)\n",
    "    p_l, p_r, p_b, p_t = get_surround(p)\n",
    "\n",
    "    a = 1 / dt * ((u_r - u_l) / (2 * dx) + (u_t - u_b) / (2 * dy))\n",
    "    b = 1 / dx**2 * ((u_r - u_l) / dx) ** 2\n",
    "    c = 1 / dy**2 * ((u_t - u_b) / dy) ** 2\n",
    "    d = 2 * ((u_r - u_l) / dx  * (u_t - u_b) / dy)\n",
    "    e = p  * dx ** 2 * dy ** 2 / ( 2 * (dx ** 2 + dy ** 2))\n",
    "    f = ((p_r + p_l) * dy ** 2  + (p_t + p_b) * dx ** 2) / (2 * (dx ** 2 + dy ** 2))\n",
    "\n",
    "    return (a - b - c - d) * e + f"
   ]
  },
  {
   "cell_type": "code",
   "execution_count": 10,
   "metadata": {},
   "outputs": [],
   "source": [
    "@partial(jit, static_argnames=('dt', 'dx', 'dy'))\n",
    "def momentum_step(u : jnp.ndarray, p : jnp.ndarray, dx : float, dy : float, dt : float) -> jnp.ndarray:\n",
    "    u_l, u_r, u_b, u_t = get_surround(u)\n",
    "    p_l, p_r, p_b, p_t = get_surround(p)\n",
    "\n",
    "    \n",
    "    pass"
   ]
  },
  {
   "cell_type": "code",
   "execution_count": 11,
   "metadata": {},
   "outputs": [],
   "source": [
    "@partial(jit, static_argnames=('dt', 'dx', 'dy', 'pressure_steps'))\n",
    "def solver_step(u : jnp.ndarray, p : jnp.ndarray, dx : float, dy : float, dt : float, pressure_steps : int) -> tuple[jnp.ndarray, jnp.ndarray]:\n",
    "    u = momentum_step(u, p, dx, dy, dt)\n",
    "\n",
    "    for _ in range(pressure_steps):\n",
    "        p = pressure_step(u, p, dx, dy, dt)\n",
    "        \n",
    "    return u, p"
   ]
  },
  {
   "attachments": {},
   "cell_type": "markdown",
   "metadata": {},
   "source": [
    "Sources: \n",
    "\n",
    "- https://digitalcommons.georgiasouthern.edu/cgi/viewcontent.cgi?article=1846\n",
    "- https://nbviewer.org/github/barbagroup/CFDPython/blob/master/lessons/12_Step_9.ipynb\n"
   ]
  },
  {
   "attachments": {},
   "cell_type": "markdown",
   "metadata": {},
   "source": []
  }
 ],
 "metadata": {
  "kernelspec": {
   "display_name": "pbdl",
   "language": "python",
   "name": "python3"
  },
  "language_info": {
   "codemirror_mode": {
    "name": "ipython",
    "version": 3
   },
   "file_extension": ".py",
   "mimetype": "text/x-python",
   "name": "python",
   "nbconvert_exporter": "python",
   "pygments_lexer": "ipython3",
   "version": "3.10.9"
  },
  "orig_nbformat": 4
 },
 "nbformat": 4,
 "nbformat_minor": 2
}
