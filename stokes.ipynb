{
 "cells": [
  {
   "attachments": {},
   "cell_type": "markdown",
   "metadata": {},
   "source": [
    "# Navier Stokes\n",
    "\n",
    "## Introduction\n",
    "We ignore any external forces and assume that the fluid is incompressible.\n",
    "\n",
    "Given:\n",
    "\n",
    "- $\\vec{v}$: velocity vector field with x / y components $u$ and $v$\n",
    "- $p$: pressure vector field\n",
    "- $\\rho$: density\n",
    "- $\\nu$: kinematic viscosity\n",
    "\n",
    "And:\n",
    "\n",
    "- $\\nabla$ is the gradient operator\n",
    "- $\\nabla^2$ or $\\Delta$ is the Laplacian operator\n"
   ]
  },
  {
   "attachments": {},
   "cell_type": "markdown",
   "metadata": {},
   "source": [
    "The equations for the incompressible Navier Stokes equations are:\n",
    "\n",
    "1. Momentum conservation:\n",
    "$$\\frac{\\partial \\mathbf{u}}{\\partial t} + \\vec{v} \\cdot \\nabla \\vec{v} = -\\frac{1}{\\rho} \\nabla p + \\nu \\Delta \\vec{v}$$\n",
    "\n",
    "2. Incompressibility or mass conservation:\n",
    "$$\\nabla \\cdot \\vec{v} = 0$$"
   ]
  },
  {
   "attachments": {},
   "cell_type": "markdown",
   "metadata": {},
   "source": [
    "We have the followin equivalence:\n",
    "\n",
    "$$ \\nabla \\cdot \\vec{v} = \\frac{\\partial u}{\\partial x} + \\frac{\\partial v}{\\partial y}$$\n",
    "\n",
    "And coresspondingly:\n",
    "\n",
    "$$ \\vec{v} \\nabla \\cdot \\vec{v} = u \\frac{\\partial u}{\\partial x} + v \\frac{\\partial v}{\\partial y}$$\n"
   ]
  },
  {
   "attachments": {},
   "cell_type": "markdown",
   "metadata": {},
   "source": [
    "We can split the momentum conservation equation into two equations, one for each component of the velocity vector field:\n",
    "\n",
    "$$\\frac{\\partial u}{\\partial t} + u \\frac{\\partial u}{\\partial x} + v \\frac{\\partial u}{\\partial y} = -\\frac{1}{\\rho} \\frac{\\partial p}{\\partial x} + \\nu \\left( \\frac{\\partial^2 u}{\\partial x^2} + \\frac{\\partial^2 u}{\\partial y^2} \\right) \\tag{1}$$\n",
    "\n",
    "$$\\frac{\\partial v}{\\partial t} + u \\frac{\\partial v}{\\partial x} + v \\frac{\\partial v}{\\partial y} = -\\frac{1}{\\rho} \\frac{\\partial p}{\\partial y} + \\nu \\left( \\frac{\\partial^2 v}{\\partial x^2} + \\frac{\\partial^2 v}{\\partial y^2} \\right) \\tag{2}$$"
   ]
  },
  {
   "attachments": {},
   "cell_type": "markdown",
   "metadata": {},
   "source": [
    "Furthermore we can take the divergence of the momentum conservation equation and use the incompressibility equation to get a Poisson equation for the pressure vector field:\n",
    "\n",
    "$$\\nabla \\left(\\frac{\\partial \\mathbf{u}}{\\partial t} + \\vec{v} \\cdot \\nabla \\vec{v}\\right) = \\nabla \\left( -\\frac{1}{\\rho} \\nabla p + \\nu \\Delta \\vec{v}  \\right)$$"
   ]
  },
  {
   "attachments": {},
   "cell_type": "markdown",
   "metadata": {},
   "source": [
    "On the LHS the term $\\nabla \\cdot \\vec{v}$ is zero, so we get:\n",
    "\n",
    "\n",
    "$$\\nabla \\left(\\vec{v} \\cdot \\nabla \\vec{v}\\right) = \\nabla \\left( -\\frac{1}{\\rho} \\nabla p + \\nu \\Delta \\vec{v} \\right)$$"
   ]
  },
  {
   "attachments": {},
   "cell_type": "markdown",
   "metadata": {},
   "source": [
    "On the RHS $\\nabla \\nu \\nabla^2 \\vec{v}$ is zero, so we get:\n",
    "\n",
    "$$\\nabla \\left(\\vec{v} \\cdot \\nabla \\vec{v}\\right) = \\nabla \\left( -\\frac{1}{\\rho} \\nabla p \\right) = -\\frac{1}{\\rho} \\Delta p$$"
   ]
  },
  {
   "attachments": {},
   "cell_type": "markdown",
   "metadata": {},
   "source": [
    "Which we can rearange to:\n",
    "\n",
    "$$\\Delta p = -\\rho \\nabla \\left(\\vec{v} \\cdot \\nabla \\vec{v}\\right)$$"
   ]
  },
  {
   "attachments": {},
   "cell_type": "markdown",
   "metadata": {},
   "source": [
    "Which can be written in 2D as:\n",
    "\n",
    "$$\\frac{\\partial^2 p}{\\partial x^2} + \\frac{\\partial^2 p}{\\partial y^2} = -\\rho \\left(  \\frac{\\partial u}{\\partial x} \\frac{\\partial u}{\\partial x} + 2 \\frac{\\partial u}{\\partial y} \\frac{\\partial v}{\\partial x} + \\frac{\\partial v}{\\partial y} \\frac{\\partial v}{\\partial y} \\right) \\tag{3}$$\n",
    "\n",
    "This equation couples the pressure and velocity fields. This is only necessary in the case of incompressible fluids. For compressible fluids the pressure is a function of the density and the momentum conservation equation is:"
   ]
  },
  {
   "attachments": {},
   "cell_type": "markdown",
   "metadata": {},
   "source": [
    "## Discretization\n",
    "\n",
    "Lets discretize the u momentum conservation equation (1):\n",
    "\n",
    "LHS: \n",
    "$$\\frac{u^{n+1}_{i,j} - u^n_{i,j}}{\\Delta t} + u^n_{i,j} \\frac{u^n_{i,j} - u^n_{i-1,j}}{\\Delta x} + v^n_{i,j} \\frac{u^n_{i,j} - u^n_{i,j-1}}{\\Delta y}$$\n",
    "\n",
    "RHS:\n",
    "$$ -\\frac{1}{\\rho} \\frac{p^{n+1}_{i,j} - p^{n+1}_{i-1,j}}{ 2\\Delta x} + \\nu \\left( \\frac{u^n_{i+1,j} - 2 u^n_{i,j} + u^n_{i-1,j}}{\\Delta x^2} + \\frac{u^n_{i,j+1} - 2 u^n_{i,j} + u^n_{i,j-1}}{\\Delta y^2} \\right)$$"
   ]
  },
  {
   "attachments": {},
   "cell_type": "markdown",
   "metadata": {},
   "source": [
    "Sources: \n",
    "\n",
    "- https://digitalcommons.georgiasouthern.edu/cgi/viewcontent.cgi?article=1846\n",
    "- https://nbviewer.org/github/barbagroup/CFDPython/blob/master/lessons/12_Step_9.ipynb\n"
   ]
  },
  {
   "cell_type": "markdown",
   "metadata": {},
   "source": []
  }
 ],
 "metadata": {
  "language_info": {
   "name": "python"
  },
  "orig_nbformat": 4
 },
 "nbformat": 4,
 "nbformat_minor": 2
}
