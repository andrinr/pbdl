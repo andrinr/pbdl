{
 "cells": [
  {
   "attachments": {},
   "cell_type": "markdown",
   "metadata": {},
   "source": [
    "# Differentiable Physics IV: Hyperbolic PDEs and their numerical solutions\n",
    "\n",
    "Considering a second order PDE's:\n",
    "\n",
    "$$A \\frac{\\partial ^ 2 u}{\\partial x^2} + B \\frac{\\partial ^ 2 u}{\\partial y \\partial x} + C \\frac{\\partial ^ 2 u}{\\partial y^2} = 0 $$\n",
    "\n",
    "For it to be a hyperbolic PDE it must hold: \n",
    "\n",
    "$$B^2 - AC > 0$$\n",
    "\n",
    "There exists a variety of finite difference methods to solve the equation such as Lax, Upwind, Lax-Wendrof and Mac Cormack. Furtheremore there are finite volume methods such as the Godunov method. We restrict ourselves to the finite difference methods."
   ]
  },
  {
   "attachments": {},
   "cell_type": "markdown",
   "metadata": {},
   "source": []
  }
 ],
 "metadata": {
  "kernelspec": {
   "display_name": "pbdl",
   "language": "python",
   "name": "python3"
  },
  "language_info": {
   "codemirror_mode": {
    "name": "ipython",
    "version": 3
   },
   "file_extension": ".py",
   "mimetype": "text/x-python",
   "name": "python",
   "nbconvert_exporter": "python",
   "pygments_lexer": "ipython3",
   "version": "3.10.9"
  },
  "orig_nbformat": 4
 },
 "nbformat": 4,
 "nbformat_minor": 2
}
