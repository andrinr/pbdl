{
 "cells": [
  {
   "attachments": {},
   "cell_type": "markdown",
   "metadata": {},
   "source": [
    "# Differentiable Physics VII: Incompressible Navier Stokes"
   ]
  },
  {
   "attachments": {},
   "cell_type": "markdown",
   "metadata": {},
   "source": [
    "## Navier Stokes Equations\n",
    "\n",
    "We limit the scope of the solver with the following constraints:\n",
    "\n",
    "- We use the conservative form of the equations, meaning we are looking at a volume which is fixed in space and the fluid is moving through it.\n",
    "- We use a 2D grid based approach, where each cell in the grid represents a volume element and has size $\\Delta x \\times \\Delta y$.\n",
    "- The fluid is incompressible. This means that the density $\\rho$ is constant across the grid.\n",
    "\n",
    "The following quantities are defined on the grid:\n",
    "\n",
    "- $V$ : velocity vector field. $V = \\begin{pmatrix} u \\\\ v \\end{pmatrix}$\n",
    "- $p_{i,j}$ : pressure scalar field\n",
    "- $\\rho$ : density, constant across the grid\n",
    "- $\\nu$: kinematic viscosity, constant across the grid\n",
    "- $\\tau_{i,j}$ : dye concentration vector field ( for visualization purposes )"
   ]
  },
  {
   "attachments": {},
   "cell_type": "markdown",
   "metadata": {},
   "source": [
    "The equations for the incompressible Navier Stokes equations are:\n",
    "\n",
    "1. Momentum conservation:\n",
    "$$\\frac{\\partial V}{\\partial t} + V \\cdot \\nabla U= -\\frac{1}{\\rho} \\nabla p + \\nu \\Delta U$$\n",
    "\n",
    "2. Incompressibility or mass conservation:\n",
    "$$\\nabla \\cdot V = 0$$"
   ]
  },
  {
   "attachments": {},
   "cell_type": "markdown",
   "metadata": {},
   "source": [
    "As we are interested in the 2D case, we can write the equations as:\n",
    "\n",
    "$$\\frac{\\partial u}{\\partial t} + u \\frac{\\partial u}{\\partial x} + v \\frac{\\partial u}{\\partial y} = -\\frac{1}{\\rho} \\frac{\\partial p}{\\partial x} + \\nu \\left( \\frac{\\partial^2 u}{\\partial x^2} + \\frac{\\partial^2 u}{\\partial y^2} \\right) \\tag{1}$$\n",
    "\n",
    "$$\\frac{\\partial v}{\\partial t} + u \\frac{\\partial v}{\\partial x} + v \\frac{\\partial v}{\\partial y} = -\\frac{1}{\\rho} \\frac{\\partial p}{\\partial y} + \\nu \\left( \\frac{\\partial^2 v}{\\partial x^2} + \\frac{\\partial^2 v}{\\partial y^2} \\right) \\tag{2}$$"
   ]
  },
  {
   "attachments": {},
   "cell_type": "markdown",
   "metadata": {},
   "source": [
    "In the incompressible case the momentum conservation equation and the incompressibility equation are not coupled. We can couple them by taking the divergence of the momentum conservation equation and applying the incompressibility property:\n",
    "\n",
    "$$\\nabla \\left(\\frac{\\partial V}{\\partial t} + V \\cdot \\nabla V\\right) = \\nabla \\left( -\\frac{1}{\\rho} \\nabla p + \\nu \\Delta V  \\right)$$"
   ]
  },
  {
   "attachments": {},
   "cell_type": "markdown",
   "metadata": {},
   "source": [
    "On the LHS the term $\\nabla \\cdot \\vec{v}$ is zero, so we get:\n",
    "\n",
    "\n",
    "$$\\nabla \\left(V \\cdot \\nabla V\\right) = \\nabla \\left( -\\frac{1}{\\rho} \\nabla p + \\nu \\Delta V \\right)$$"
   ]
  },
  {
   "attachments": {},
   "cell_type": "markdown",
   "metadata": {},
   "source": [
    "On the RHS $\\nabla \\nu \\nabla^2 \\vec{v}$ is zero, so we get:\n",
    "\n",
    "$$\\nabla \\left(V \\cdot \\nabla V\\right) = \\nabla \\left( -\\frac{1}{\\rho} \\nabla p \\right) = -\\frac{1}{\\rho} \\Delta p$$"
   ]
  },
  {
   "attachments": {},
   "cell_type": "markdown",
   "metadata": {},
   "source": [
    "Which we can rearange to:\n",
    "\n",
    "$$\\Delta p = -\\rho \\nabla \\left(V \\cdot \\nabla V\\right)$$"
   ]
  },
  {
   "attachments": {},
   "cell_type": "markdown",
   "metadata": {},
   "source": [
    "Which can be written in 2D as:\n",
    "\n",
    "$$\\frac{\\partial^2 p}{\\partial x^2} + \\frac{\\partial^2 p}{\\partial y^2} = -\\rho \\left(  \\frac{\\partial u}{\\partial x} \\frac{\\partial u}{\\partial x} + 2 \\frac{\\partial u}{\\partial y} \\frac{\\partial v}{\\partial x} + \\frac{\\partial v}{\\partial y} \\frac{\\partial v}{\\partial y} \\right) \\tag{3}$$\n"
   ]
  },
  {
   "attachments": {},
   "cell_type": "markdown",
   "metadata": {},
   "source": [
    "Solvers for the Navier Stokes equations are usually based on the **projection method**. We use the Chorin projection method, which is a semi-implicit method. The method is based on the following steps:\n",
    "\n",
    "1. Solve the momentum conservation equation for the intermediate velocity field $V^*$, ignoring the pressure term:\n",
    "\n",
    "$$\\frac{\\partial V^*}{\\partial t} + V \\cdot \\nabla V^* = \\nu \\Delta V^* \\tag{4}$$\n",
    "\n",
    "2. Solve the Poisson equation for the pressure field $p$:\n",
    "\n",
    "$$\\Delta p^{n+1} = -\\rho \\nabla \\left(V^* \\cdot \\nabla V^* \\right) \\tag{5}$$\n",
    "\n",
    "3. Correct the intermediate velocity field with the pressure field:\n",
    "\n",
    "$$V^{n+1} = V^* - \\frac{1}{\\rho} \\nabla p^{n+1} \\tag{6}$$\n",
    "\n",
    "The projection method is a semi-implicit method, because the momentum conservation equation is solved explicitly, while the Poisson equation is solved implicitly.\n",
    "\n",
    "We use the Mac Cormack method to solve the momentum conservation equation which we have already seen in the previous notebook. To solve the Poisson equation we use the Jacobi method, which is a simple iterative method. There are more advanced methods for solving the Poisson equation, but the Jacobi method is simple and easy to implement."
   ]
  },
  {
   "attachments": {},
   "cell_type": "markdown",
   "metadata": {},
   "source": [
    "## Solve for the intermediate velocity field $V^*$\n",
    "\n",
    "To solve for the intermediate velocity field $V^*$ we use the MacCormack method as follows:\n",
    "\n",
    "$$\\bar{V}_{i,j}^{n+1, *} = V_{i,j}^n - \\frac{\\Delta t}{\\Delta x} \\left( E_{i+1, j}^{n} - E_{i, j}^{n} \\right) - \\frac{\\Delta t}{\\Delta y} \\left( F_{i, j+1}^{n} - F_{i, j}^{n} \\right)$$\n",
    "\n",
    "\n",
    "and the corrector step as:\n",
    "\n",
    "\n",
    "$$V_{i,j}^{n+1, *} = \\frac{1}{2} \\left[ \\left( V_{i,j}^* + \\bar{V}_{i,j}^{n+1,*} \\right) - \\frac{\\Delta t}{ \\Delta x} \\left( \\bar{E}_{i, j}^{n+1} - \\bar{E}_{i-1, j}^{n+1} \\right) - \\frac{\\Delta t}{\\Delta y} \\left( \\bar{F}_{i, j}^{n+1} - \\bar{F}_{i, j-1}^{n+1} \\right) \\right]$$"
   ]
  },
  {
   "attachments": {},
   "cell_type": "markdown",
   "metadata": {},
   "source": [
    "where we define the fluxes as:\n",
    "\n",
    "$$E = \\begin{bmatrix} u\\cdot u + \\nu \\frac{\\partial u}{\\partial x} \\\\  u\\cdot v + \\nu \\frac{\\partial u}{\\partial x}  \\end{bmatrix} \\quad F = \\begin{bmatrix} u\\cdot v + \\nu \\frac{\\partial v}{\\partial x} \\\\  v\\cdot v + \\nu \\frac{\\partial v}{\\partial y}  \\end{bmatrix}$$\n",
    "\n",
    "the velocity $V$ and state vector $U$ as:\n",
    "\n",
    "$$V = \\begin{bmatrix} u \\\\ v \\end{bmatrix} \\quad U = \\begin{bmatrix} u \\\\ v \\\\ p \\end{bmatrix}$$\n"
   ]
  },
  {
   "cell_type": "code",
   "execution_count": 6,
   "metadata": {},
   "outputs": [],
   "source": [
    "import jax.numpy as jnp\n",
    "from jax import value_and_grad, jit\n",
    "from functools import partial\n",
    "\n",
    "@partial(jit, static_argnames=(\"delta\", \"axis\"))\n",
    "def fd(f : jnp.ndarray, delta : float, axis : int):\n",
    "    return jnp.roll(f, -1, axis=axis) - f / delta\n",
    "\n",
    "@partial(jit, static_argnames=(\"delta\", \"axis\"))\n",
    "def bd(f : jnp.ndarray, delta : float, axis : int):\n",
    "    return f - jnp.roll(f, 1, axis=axis) / delta\n",
    "\n",
    "@partial(jit, static_argnames=(\"delta\", \"axis\"))\n",
    "def cf(f : jnp.ndarray, delta : float, axis : int):\n",
    "    return (jnp.roll(f, -1, axis=axis) - jnp.roll(f, 1, axis=0)) / (2*delta)"
   ]
  },
  {
   "cell_type": "code",
   "execution_count": 11,
   "metadata": {},
   "outputs": [],
   "source": [
    "@partial(jit, static_argnames=(\"dt\", \"dx\", \"dy\", \"nu\", \"scheme\"))\n",
    "def construct_E_F(\n",
    "    V : jnp.ndarray, \n",
    "    dt : float, \n",
    "    dx : float, \n",
    "    dy : float, \n",
    "    nu : float, \n",
    "    scheme : tuple[str, str] = (\"f\", \"f\")\n",
    ") -> tuple[jnp.ndarray, jnp.ndarray]:\n",
    "\n",
    "    d_dx = partial(fd, delta=dx, axis=0) if scheme[0] == \"f\" else partial(bd, delta=dx, axis=0)\n",
    "    d_dy = partial(fd, delta=dy, axis=1) if scheme[1] == \"f\" else partial(bd, delta=dy, axis=1)\n",
    "    \n",
    "    u = V[..., 0]\n",
    "    v = V[..., 1]\n",
    "\n",
    "    E = jnp.zeros_like(V)\n",
    "    F = jnp.zeros_like(V)\n",
    "\n",
    "    E[..., 0] = u * u + nu * d_dx(u)\n",
    "    E[..., 1] = u * v + nu * d_dy(u)\n",
    "\n",
    "    F[..., 0] = u * v + nu * d_dx(v)\n",
    "    F[..., 1] = v * v + nu * d_dy(v)"
   ]
  },
  {
   "cell_type": "code",
   "execution_count": 12,
   "metadata": {},
   "outputs": [],
   "source": [
    "from jax.tree_util import Partial\n",
    "\n",
    "@partial(jit, static_argnames=(\"dt\", \"dx\", \"dy\", \"nu\", \"pred_scheme\", \"corr_scheme\"))\n",
    "def mac_cormack_2d(\n",
    "    U : jnp.ndarray, # state vector\n",
    "    dt : float, # delta time\n",
    "    dx : float, # delta x\n",
    "    dy : float, # delta y\n",
    "    nu : float, # viscosity\n",
    "    pred_scheme : tuple[str, str], # prediction scheme\n",
    "    corr_scheme : tuple[str, str], # correction scheme\n",
    ") -> jnp.ndarray:\n",
    "    \n",
    "    pd_dx = Partial(fd, delta=dx, axis=0) if pred_scheme[0] == 'f' else Partial(bd, delta=dx, axis=0)\n",
    "    pd_dy = Partial(fd, delta=dy, axis=1) if pred_scheme[1] == 'f' else Partial(bd, delta=dy, axis=1)\n",
    "\n",
    "    cd_dx = Partial(fd, delta=dx, axis=0) if corr_scheme[0] == 'f' else Partial(bd, delta=dx, axis=0)\n",
    "    cd_dy = Partial(fd, delta=dy, axis=1) if corr_scheme[1] == 'f' else Partial(bd, delta=dy, axis=1)\n",
    "\n",
    "    E, F = construct_E_F(U, dt, dx, dy, nu, pred_scheme)\n",
    "\n",
    "    U_pred = U - \\\n",
    "        dt * pd_dx(E) - \\\n",
    "        dt * pd_dy(F)\n",
    "\n",
    "    E_pred, F_pred = construct_E_F(U_pred, dt, dx, dy, nu, corr_scheme)\n",
    "\n",
    "    U_fwd = 1/2 * ( (U + U_pred) - \\\n",
    "        dt * cd_dx(E_pred) - \\\n",
    "        dt * cd_dy(F_pred) )\n",
    "        \n",
    "\n",
    "    return U_fwd"
   ]
  },
  {
   "attachments": {},
   "cell_type": "markdown",
   "metadata": {},
   "source": [
    "## Solve the Poisson equation for the pressure field $p$\n",
    "\n",
    "To solve the Poisson equation for the pressure field $p$ we use the Jacobi method. The Jacobi method is an iterative method, which means that we start with an initial guess for the pressure field $p$ and then we iteratively update the pressure field until we reach a solution. The Jacobi method is defined as:\n",
    "\n",
    "$$p_{i,j}^{k+1} = \\frac{1}{4} \\left( p_{i+1,j}^{k} + p_{i-1,j}^{k} + p_{i,j+1}^{k} + p_{i,j-1}^{k} + \\rho \\Delta x^2 \\nabla \\left(V^* \\cdot \\nabla V^* \\right) \\right)$$\n",
    "\n",
    "where $k$ is the iteration number."
   ]
  },
  {
   "cell_type": "code",
   "execution_count": 13,
   "metadata": {},
   "outputs": [],
   "source": [
    "def jacobi_step(U : jnp.ndarray, dx : float, dy : float) -> jnp.ndarray:\n",
    "    u = U[..., 0]\n",
    "    v = U[..., 1]\n",
    "\n",
    "    u_xx = fd(fd(u, dx, 0), dx, 0)\n",
    "    u_yy = fd(fd(u, dy, 1), dy, 1)\n",
    "\n",
    "    v_xx = fd(fd(v, dx, 0), dx, 0)\n",
    "    v_yy = fd(fd(v, dy, 1), dy, 1)\n",
    "\n",
    "    p = (u_xx + v_yy) / 2\n",
    "\n",
    "    return jnp.stack((u, v, p), axis=-1)\n",
    "\n",
    "def jacobi(U : jnp.ndarray, dx : float, dy : float, iterations : int) -> jnp.ndarray:\n",
    "    U_jac = U\n",
    "    for _ in range(iterations):\n",
    "        U_jac = jacobi_step(U_jac, dx, dy)\n",
    "    return U_jac"
   ]
  },
  {
   "attachments": {},
   "cell_type": "markdown",
   "metadata": {},
   "source": [
    "## Bring it all together"
   ]
  },
  {
   "cell_type": "code",
   "execution_count": 14,
   "metadata": {},
   "outputs": [],
   "source": [
    "def ns_solver_step(U : jnp.ndarray, dt : float, dx : float, dy : float, nu : float, iterations : int) -> jnp.ndarray:\n",
    "    U = mac_cormack_2d(U, dt, dx, dy, nu, (\"f\", \"f\"), (\"f\", \"f\"))\n",
    "    U_jac = jacobi(U, dx, dy, iterations)\n",
    "    # correct pressure\n",
    "    U_jac[..., 2] = U_jac[..., 2] - jnp.mean(U_jac[..., 2])\n",
    "\n",
    "    return U_jac\n",
    "\n",
    "def ns_solver(U : jnp.ndarray, dt : float, dx : float, dy : float, nu : float, iterations : int, steps : int) -> jnp.ndarray:\n",
    "    U_ns = U\n",
    "    for _ in range(steps):\n",
    "        U_ns = ns_solver_step(U_ns, dt, dx, dy, nu, iterations)\n",
    "    return U_ns"
   ]
  },
  {
   "cell_type": "code",
   "execution_count": null,
   "metadata": {},
   "outputs": [],
   "source": []
  }
 ],
 "metadata": {
  "kernelspec": {
   "display_name": "pbdl",
   "language": "python",
   "name": "python3"
  },
  "language_info": {
   "codemirror_mode": {
    "name": "ipython",
    "version": 3
   },
   "file_extension": ".py",
   "mimetype": "text/x-python",
   "name": "python",
   "nbconvert_exporter": "python",
   "pygments_lexer": "ipython3",
   "version": "3.10.9"
  },
  "orig_nbformat": 4
 },
 "nbformat": 4,
 "nbformat_minor": 2
}
