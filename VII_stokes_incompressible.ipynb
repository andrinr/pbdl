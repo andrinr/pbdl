{
 "cells": [
  {
   "attachments": {},
   "cell_type": "markdown",
   "metadata": {},
   "source": [
    "# Differentiable Physics VII: Incompressible Navier Stokes"
   ]
  },
  {
   "attachments": {},
   "cell_type": "markdown",
   "metadata": {},
   "source": [
    "## Navier Stokes Equations\n",
    "\n",
    "We limit the scope of the solver with the following constraints:\n",
    "\n",
    "- We use the conservative form of the equations, meaning we are looking at a volume which is fixed in space and the fluid is moving through it.\n",
    "- We use a 2D grid based approach, where each cell in the grid represents a volume element and has size $\\Delta x \\times \\Delta y$.\n",
    "- The fluid is incompressible. This means that the density $\\rho$ is constant across the grid.\n",
    "\n",
    "The following quantities are defined on the grid:\n",
    "\n",
    "- $V$ : velocity vector field. $V = \\begin{pmatrix} u \\\\ v \\end{pmatrix}$\n",
    "- $p_{i,j}$ : pressure scalar field\n",
    "- $\\rho$ : density, constant across the grid\n",
    "- $\\nu$: kinematic viscosity, constant across the grid\n",
    "- $\\tau_{i,j}$ : dye concentration vector field ( for visualization purposes )"
   ]
  },
  {
   "attachments": {},
   "cell_type": "markdown",
   "metadata": {},
   "source": [
    "The equations for the incompressible Navier Stokes equations are:\n",
    "\n",
    "1. Momentum conservation:\n",
    "$$\\frac{\\partial V}{\\partial t} + V \\cdot \\nabla U= -\\frac{1}{\\rho} \\nabla p + \\nu \\Delta U$$\n",
    "\n",
    "2. Incompressibility or mass conservation:\n",
    "$$\\nabla \\cdot V = 0$$"
   ]
  },
  {
   "attachments": {},
   "cell_type": "markdown",
   "metadata": {},
   "source": [
    "In the incompressible case the momentum conservation equation and the incompressibility equation are not coupled. We can couple them by taking the divergence of the momentum conservation equation and applying the incompressibility property:\n",
    "\n",
    "$$\\nabla \\left(\\frac{\\partial V}{\\partial t} + V \\cdot \\nabla V\\right) = \\nabla \\left( -\\frac{1}{\\rho} \\nabla p + \\nu \\Delta V  \\right)$$"
   ]
  },
  {
   "attachments": {},
   "cell_type": "markdown",
   "metadata": {},
   "source": [
    "On the LHS the term $\\nabla \\cdot \\vec{v}$ is zero, so we get:\n",
    "\n",
    "\n",
    "$$\\nabla \\left(V \\cdot \\nabla V\\right) = \\nabla \\left( -\\frac{1}{\\rho} \\nabla p + \\nu \\Delta V \\right)$$"
   ]
  },
  {
   "attachments": {},
   "cell_type": "markdown",
   "metadata": {},
   "source": [
    "On the RHS $\\nabla \\nu \\nabla^2 \\vec{v}$ is zero, so we get:\n",
    "\n",
    "$$\\nabla \\left(V \\cdot \\nabla V\\right) = \\nabla \\left( -\\frac{1}{\\rho} \\nabla p \\right) = -\\frac{1}{\\rho} \\Delta p$$"
   ]
  },
  {
   "attachments": {},
   "cell_type": "markdown",
   "metadata": {},
   "source": [
    "Which we can rearange to:\n",
    "\n",
    "$$\\Delta p = -\\rho \\nabla \\left(V \\cdot \\nabla V\\right)$$"
   ]
  },
  {
   "attachments": {},
   "cell_type": "markdown",
   "metadata": {},
   "source": [
    "Which can be written in 2D as:\n",
    "\n",
    "$$\\frac{\\partial^2 p}{\\partial x^2} + \\frac{\\partial^2 p}{\\partial y^2} = -\\rho \\left(  \\frac{\\partial u}{\\partial x} \\frac{\\partial u}{\\partial x} + 2 \\frac{\\partial u}{\\partial y} \\frac{\\partial v}{\\partial x} + \\frac{\\partial v}{\\partial y} \\frac{\\partial v}{\\partial y} \\right) $$\n"
   ]
  },
  {
   "attachments": {},
   "cell_type": "markdown",
   "metadata": {},
   "source": [
    "Solvers for the Navier Stokes equations are usually based on the **projection method**. We use the Chorin projection method, which is a semi-implicit method. The method is based on the following steps:\n",
    "\n",
    "1. Solve the momentum conservation equation for the intermediate velocity field $V^*$, ignoring the pressure term:\n",
    "\n",
    "$$\\frac{\\partial V^*}{\\partial t} + V \\cdot \\nabla V^* = \\nu \\Delta V^*$$\n",
    "\n",
    "2. Solve the Poisson equation for the pressure field $p$:\n",
    "\n",
    "$$\\Delta p^{n+1} = -\\rho \\nabla \\left(V^* \\cdot \\nabla V^* \\right)$$\n",
    "\n",
    "3. Correct the intermediate velocity field with the pressure field:\n",
    "\n",
    "$$V^{n+1} = V^* - \\frac{1}{\\rho} \\nabla p^{n+1} $$\n",
    "\n",
    "The projection method is a semi-implicit method, because the momentum conservation equation is solved explicitly, while the Poisson equation is solved implicitly."
   ]
  },
  {
   "attachments": {},
   "cell_type": "markdown",
   "metadata": {},
   "source": [
    "## 1. Solve for the intermediate velocity field $V^*$\n",
    "\n",
    "We need to solve the following equation:\n",
    "\n",
    "$$\\frac{\\partial V^*}{\\partial t}  = \\nu \\Delta V^* - V \\cdot \\nabla V^*$$\n",
    "\n",
    "\n",
    "Instead of computing the solution to the equation in a single step, we decompose the solution into three steps:\n",
    "\n",
    "- Advection : $V^a = - V \\cdot \\nabla V$\n",
    "- Diffusion : $V^d = \\nu \\Delta V^*$\n",
    "- Projection : $V^{n+1} = V^n + \\Delta t (V^a + V^d)$\n",
    "\n",
    "(We dont use external forces in this example)"
   ]
  },
  {
   "attachments": {},
   "cell_type": "markdown",
   "metadata": {},
   "source": [
    "### Solving the 2D Advection Equation"
   ]
  },
  {
   "attachments": {},
   "cell_type": "markdown",
   "metadata": {},
   "source": [
    "We can use the forward difference method for the temporal difference. Applied to \n",
    "\n",
    "$$ \\frac{u_{i,j}^{n+1} - u_{i,j}^n}{\\Delta t} =- u \\frac{\\partial u}{\\partial x} - v \\frac{\\partial u}{\\partial y} + \\nu \\left( \\frac{\\partial^2 u}{\\partial x^2} + \\frac{\\partial^2 u}{\\partial y^2} \\right) $$\n",
    "\n",
    "Rearranging the terms we get:\n",
    "\n",
    "$$ u_{i,j}^{n+1} = \\left(-u \\frac{\\partial u}{\\partial x} - v \\frac{\\partial u}{\\partial y} + \\nu \\left( \\frac{\\partial^2 u}{\\partial x^2} + \\frac{\\partial^2 u}{\\partial y^2} \\right)\\right) \\Delta t + u_{i,j}^n $$\n",
    "\n",
    "Discretizing the spatial derivatives with the forward difference method we get:\n",
    "\n",
    "$$ u_{i,j}^{n+1} = \\left(-u_{i,j}^n \\frac{u_{i,j}^n - u_{i-1,j}^n}{\\Delta x} - v_{i,j}^n \\frac{u_{i,j}^n - u_{i,j-1}^n}{\\Delta y} + \\nu \\left( \\frac{u_{i+1,j}^n - 2 u_{i,j}^n + u_{i-1,j}^n}{\\Delta x^2} + \\frac{u_{i,j+1}^n - 2 u_{i,j}^n + u_{i,j-1}^n}{\\Delta y^2} \\right)\\right) \\Delta t + u_{i,j}^n $$\n",
    "\n",
    "Same goes for the $v$ component:\n",
    "\n",
    "$$ v_{i,j}^{n+1} = \\left(-u_{i,j}^n \\frac{v_{i,j}^n - v_{i-1,j}^n}{\\Delta x} - v_{i,j}^n \\frac{v_{i,j}^n - v_{i,j-1}^n}{\\Delta y} + \\nu \\left( \\frac{v_{i+1,j}^n - 2 v_{i,j}^n + v_{i-1,j}^n}{\\Delta x^2} + \\frac{v_{i,j+1}^n - 2 v_{i,j}^n + v_{i,j-1}^n}{\\Delta y^2} \\right)\\right) \\Delta t + v_{i,j}^n $$\n"
   ]
  },
  {
   "attachments": {},
   "cell_type": "markdown",
   "metadata": {},
   "source": [
    "First order derivatives numerical approximations:"
   ]
  },
  {
   "cell_type": "code",
   "execution_count": 32,
   "metadata": {},
   "outputs": [],
   "source": [
    "import jax.numpy as jnp\n",
    "from jax import jit\n",
    "from functools import partial\n",
    "\n",
    "@partial(jit, static_argnames=(\"delta\", \"axis\"))\n",
    "def fd(f : jnp.ndarray, delta : float, axis : int):\n",
    "    return jnp.roll(f, -1, axis=axis) - f / delta\n",
    "\n",
    "@partial(jit, static_argnames=(\"delta\", \"axis\"))\n",
    "def bd(f : jnp.ndarray, delta : float, axis : int):\n",
    "    return f - jnp.roll(f, 1, axis=axis) / delta\n",
    "\n",
    "@partial(jit, static_argnames=(\"delta\", \"axis\"))\n",
    "def cd(f : jnp.ndarray, delta : float, axis : int):\n",
    "    return (jnp.roll(f, -1, axis=axis) - jnp.roll(f, 1, axis=0)) / (2*delta)\n"
   ]
  },
  {
   "attachments": {},
   "cell_type": "markdown",
   "metadata": {},
   "source": [
    "Second order derivatives numerical approximations:"
   ]
  },
  {
   "cell_type": "code",
   "execution_count": 33,
   "metadata": {},
   "outputs": [],
   "source": [
    "@partial(jit, static_argnames=(\"delta\", \"axis\"))\n",
    "def fd2(f : jnp.ndarray, delta : float, axis : int):\n",
    "    return (jnp.roll(f, -1, axis=axis) - 2*f + jnp.roll(f, 1, axis=axis)) / delta**2\n",
    "\n",
    "@partial(jit, static_argnames=(\"delta\", \"axis\"))\n",
    "def bd2(f : jnp.ndarray, delta : float, axis : int):\n",
    "    return (jnp.roll(f, -1, axis=axis) - 2*f + jnp.roll(f, 1, axis=axis)) / delta**2\n",
    "\n",
    "@partial(jit, static_argnames=(\"delta\", \"axis\"))\n",
    "def cd2(f : jnp.ndarray, delta : float, axis : int):\n",
    "    return (jnp.roll(f, -1, axis=axis) - 2*f + jnp.roll(f, 1, axis=axis)) / delta**2"
   ]
  },
  {
   "attachments": {},
   "cell_type": "markdown",
   "metadata": {},
   "source": [
    "Mixed second order partial derivative:"
   ]
  },
  {
   "cell_type": "code",
   "execution_count": 34,
   "metadata": {},
   "outputs": [],
   "source": [
    "@partial(jit, static_argnames=(\"deltaA\", \"deltaB\", \"axisA\", \"axisB\"))\n",
    "def cdm(f : jnp.ndarray, deltaA : float, deltaB : float, axisA : int, axisB : int):\n",
    "    return cd(cd(f, deltaA, axisA), deltaB, axisB)"
   ]
  },
  {
   "attachments": {},
   "cell_type": "markdown",
   "metadata": {},
   "source": [
    "Gradient:"
   ]
  },
  {
   "cell_type": "code",
   "execution_count": 35,
   "metadata": {},
   "outputs": [],
   "source": [
    "@partial(jit, static_argnames=(\"deltaA\", \"deltaB\", \"axisA\", \"axisB\"))\n",
    "def grad(f : jnp.ndarray, deltaA : float, deltaB : float, axisA : int, axisB : int):\n",
    "    return jnp.stack((cd(f, deltaA, axisA), cd(f, deltaB, axisB)), axis=-1)"
   ]
  },
  {
   "attachments": {},
   "cell_type": "markdown",
   "metadata": {},
   "source": [
    "$$ u_{i,j}^{n+1} = \\left(-u_{i,j}^n \\frac{u_{i,j}^n - u_{i-1,j}^n}{\\Delta x} - v_{i,j}^n \\frac{u_{i,j}^n - u_{i,j-1}^n}{\\Delta y}  + \\nu \\left( \\frac{u_{i+1,j}^n - 2 u_{i,j}^n + u_{i-1,j}^n}{\\Delta x^2} + \\frac{u_{i,j+1}^n - 2 u_{i,j}^n + u_{i,j-1}^n}{\\Delta y^2} \\right)\\right) \\Delta t + u_{i,j}^n $$\n"
   ]
  },
  {
   "cell_type": "code",
   "execution_count": 36,
   "metadata": {},
   "outputs": [],
   "source": [
    "@partial(jit, static_argnames=(\"dt\", \"dx\", \"dy\", \"nu\"))\n",
    "def forward_V(\n",
    "        V : jnp.ndarray, # velocity field\n",
    "        dt : float, # delta time\n",
    "        dx : float, # delta x\n",
    "        dy : float, # delta y\n",
    "        nu : float, # viscosity\n",
    "    ) -> jnp.ndarray:\n",
    "\n",
    "    u = V[..., 0]\n",
    "    v = V[..., 1]\n",
    "\n",
    "    # viscosity\n",
    "    du2_dx2 = cd2(u, dx, 0)\n",
    "    dv2_dy2 = cd2(v, dy, 1)\n",
    "    viscous_term = nu * (du2_dx2 + dv2_dy2)\n",
    "\n",
    "    # advection\n",
    "    udu_dx = u * cd(u, dx, 0)\n",
    "    vdu_dy = v * cd(u, dy, 1)\n",
    "    vdv_dx = v * cd(v, dx, 0)\n",
    "    vdv_dy = v * cd(v, dy, 1)\n",
    "\n",
    "    u_fwd = u + dt * (- udu_dx - vdu_dy + viscous_term)\n",
    "    v_fwd = v + dt * (- vdv_dx - vdv_dy + viscous_term)\n",
    "\n",
    "    V_fwd = jnp.stack((u_fwd, v_fwd), axis=-1)\n",
    "        \n",
    "    return V_fwd"
   ]
  },
  {
   "attachments": {},
   "cell_type": "markdown",
   "metadata": {},
   "source": [
    "## Solve the Poisson equation for the pressure field $p$\n",
    "\n",
    "Remember that the Poisson equation for the pressure field $p$ in 2D is:\n",
    "\n",
    "$$\\frac{\\partial^2 p}{\\partial x^2} + \\frac{\\partial^2 p}{\\partial y^2} = f$$\n",
    "\n",
    "where we define $f$ as:\n",
    "\n",
    "$$ f = -\\rho \\left(  \\frac{\\partial u}{\\partial x} \\frac{\\partial u}{\\partial x} + 2 \\frac{\\partial u}{\\partial y} \\frac{\\partial v}{\\partial x} + \\frac{\\partial v}{\\partial y} \\frac{\\partial v}{\\partial y} \\right) $$\n"
   ]
  },
  {
   "attachments": {},
   "cell_type": "markdown",
   "metadata": {},
   "source": [
    "We can discretize the Poisson equation as follows:\n",
    "\n",
    "$$\\frac{p_{i+1, j} - 2 p_{i,j} + p_{i-1,j}}{\\Delta x^2} + \\frac{p_{i, j+1} - 2 p_{i,j} + p_{i,j-1}}{\\Delta y^2} = f$$\n",
    "\n",
    "under the assumption that $\\Delta x = \\Delta y$ we get:\n",
    "\n",
    "$$ p_{i+1, j} - 2 p_{i,j} + p_{i-1,j} + p_{i, j+1} - 2 p_{i,j} + p_{i,j-1} = f \\Delta x^2$$\n",
    "\n",
    "which we can rearrange to:\n",
    "\n",
    "$$ p_{i,j} = \\frac{1}{4} \\left( p_{i+1, j} + p_{i-1,j} + p_{i, j+1} + p_{i,j-1} - f \\Delta x^2 \\right)$$\n",
    "\n",
    "which can be used to iteratively solve for $p_{i,j}$.\n",
    "\n",
    "**Question: is this the jacobi method?**\n",
    "\n"
   ]
  },
  {
   "cell_type": "code",
   "execution_count": 37,
   "metadata": {},
   "outputs": [],
   "source": [
    "from jax.lax import fori_loop\n",
    "\n",
    "@partial(jit, static_argnames=(\"dx\", \"dy\"))\n",
    "def jacobi_step(\n",
    "        p : jnp.ndarray, # pressure field\n",
    "        f : jnp.ndarray, # RHS\n",
    "        dx : float, \n",
    "        dy : float\n",
    "    ) -> jnp.ndarray:\n",
    "    \n",
    "    p_new = jnp.roll(p, 1, axis=0) + jnp.roll(p, -1, axis=0) + \\\n",
    "        jnp.roll(p, 1, axis=1) + jnp.roll(p, -1, axis=1) - \\\n",
    "        dx**2 * f\n",
    "\n",
    "    return p_new / 4\n",
    "\n",
    "@partial(jit, static_argnames=(\"dx\", \"dy\", \"iterations\"))\n",
    "def jacobi(\n",
    "        p_0 : jnp.ndarray, \n",
    "        f : jnp.ndarray, \n",
    "        dx : float, \n",
    "        dy : float, \n",
    "        iterations : int\n",
    "    ) -> jnp.ndarray:\n",
    "\n",
    "    assert dx == dy\n",
    "\n",
    "    body_fun = lambda i, p_i: jacobi_step(p_i, f, dx, dy)\n",
    "\n",
    "    p_n = fori_loop(0, iterations, body_fun, p_0)\n",
    "    \n",
    "    return p_n"
   ]
  },
  {
   "attachments": {},
   "cell_type": "markdown",
   "metadata": {},
   "source": [
    "## Simulation"
   ]
  },
  {
   "cell_type": "code",
   "execution_count": 60,
   "metadata": {},
   "outputs": [],
   "source": [
    "@partial(jit, static_argnames=(\"dt\", \"dx\", \"dy\", \"nu\", \"rho\", \"iterations\"))\n",
    "def ns_solver_step(\n",
    "    U : jnp.ndarray, # state vector\n",
    "    dt : float, # time step\n",
    "    dx : float, # grid spacing x\n",
    "    dy : float, # grid spacing y\n",
    "    nu : float, # viscosity\n",
    "    rho : float, # density\n",
    "    iterations : int # number of iterations for jacobi solver\n",
    ") -> jnp.ndarray:\n",
    "    \n",
    "    V = U[..., :2]\n",
    "    u = V[..., 0]\n",
    "    v = V[..., 1]\n",
    "    p = U[..., 2]\n",
    "    \n",
    "    # predict velocity\n",
    "    V_star = forward_V(V, dt, dx, dy, nu)\n",
    "\n",
    "    # compyte RHS for pressure\n",
    "    f = cd(u, dx, 0) ** 2 + \\\n",
    "        cd(v, dy, 1) ** 2 + \\\n",
    "        cd(u, dx, 0) * cd(v, dy, 1)\n",
    "    \n",
    "    # solve for pressure\n",
    "    p_fwd = jacobi(p, f, dx, dy, iterations)\n",
    "    grad_p = grad(p_fwd, dx, dy, 0, 1)\n",
    "\n",
    "    # correct velocity\n",
    "    V_fwd = V_star #- grad_p / rho\n",
    "\n",
    "    U_fwd = jnp.zeros_like(U)\n",
    "    U_fwd = U_fwd.at[..., :2].set(V_fwd)\n",
    "    U_fwd = U_fwd.at[..., 2].set(p_fwd)\n",
    "    \n",
    "    return U_fwd"
   ]
  },
  {
   "cell_type": "code",
   "execution_count": 61,
   "metadata": {},
   "outputs": [],
   "source": [
    "@partial(jit, static_argnames=(\"dt\", \"dx\", \"dy\", \"nu\", \"solver_iterations\", \"steps\"))\n",
    "def ns_solver(\n",
    "        U_0 : jnp.ndarray, # state vector\n",
    "        dt : float, # time step\n",
    "        dx : float, # grid spacing x\n",
    "        dy : float, # grid spacing y\n",
    "        nu : float, # viscosity\n",
    "        rho : float, # density\n",
    "        solver_iterations : int, # number of iterations for jacobi solver\n",
    "        steps : int, # number of steps\n",
    "    ) -> jnp.ndarray:\n",
    "\n",
    "    body_fun = lambda i, U_i: ns_solver_step(U_i, dt, dx, dy, nu, rho, solver_iterations)\n",
    "    U_n = fori_loop(0, steps, body_fun, U_0)\n",
    "\n",
    "    return U_n"
   ]
  },
  {
   "cell_type": "code",
   "execution_count": 73,
   "metadata": {},
   "outputs": [],
   "source": [
    "dx = 0.1\n",
    "dy = 0.1\n",
    "dt = 0.2\n",
    "\n",
    "nu = 0.3\n",
    "rho = 1.0\n",
    "\n",
    "nx = 64\n",
    "ny = 64\n",
    "\n",
    "x = jnp.linspace(0, 1, nx)\n",
    "y = jnp.linspace(0, 1, ny)\n",
    "\n",
    "X, Y = jnp.meshgrid(x, y, indexing=\"ij\")\n",
    "\n",
    "U = jnp.zeros((nx, ny, 3), dtype=jnp.float32)\n",
    "# set pressure to 1\n",
    "U = U.at[..., 2].set(0.1)\n",
    "# set velocity to 1 in x direction\n",
    "U = U.at[20, ny//4 : ny//4*3, 0].set(0.3)\n",
    "U = U.at[40, ny//4 : ny//4*3, 1].set(0.3)\n",
    "\n",
    "jacobi_steps = 100"
   ]
  },
  {
   "cell_type": "code",
   "execution_count": 74,
   "metadata": {},
   "outputs": [
    {
     "data": {
      "image/png": "[encoded data removed]",
      "text/plain": [
       "<Figure size 1200x400 with 18 Axes>"
      ]
     },
     "metadata": {},
     "output_type": "display_data"
    }
   ],
   "source": [
    "import matplotlib.pyplot as plt\n",
    "\n",
    "total_time_steps = 12\n",
    "n_views = 6\n",
    "fig, axs = plt.subplots(3, n_views, figsize=(n_views * 2, 4))\n",
    "fig.tight_layout( pad=2.0)\n",
    "\n",
    "for i in range(n_views):\n",
    "    \n",
    "    U = ns_solver(U, dt, dx, dy, nu, rho, jacobi_steps, total_time_steps // n_views)\n",
    "\n",
    "    axs[0, i].imshow(U[..., 0])\n",
    "    axs[0, i].set_xticks([])\n",
    "    axs[0, i].set_yticks([])\n",
    "    axs[0, i].set_title(f\"t = {i * total_time_steps // n_views * dt:.2f} u\")\n",
    "\n",
    "    axs[1, i].imshow(U[..., 1])\n",
    "    axs[1, i].set_xticks([])\n",
    "    axs[1, i].set_yticks([])\n",
    "    axs[1, i].set_title(f\"t = {i * total_time_steps // n_views * dt:.2f} v\")\n",
    "\n",
    "    axs[2, i].imshow(U[..., 2] * 0.5 + 0.5)\n",
    "    axs[2, i].set_xticks([])\n",
    "    axs[2, i].set_yticks([])\n",
    "    axs[2, i].set_title(f\"t = {i * total_time_steps // n_views * dt:.2f} p\")\n",
    "\n"
   ]
  },
  {
   "cell_type": "code",
   "execution_count": null,
   "metadata": {},
   "outputs": [],
   "source": []
  }
 ],
 "metadata": {
  "kernelspec": {
   "display_name": "pbdl",
   "language": "python",
   "name": "python3"
  },
  "language_info": {
   "codemirror_mode": {
    "name": "ipython",
    "version": 3
   },
   "file_extension": ".py",
   "mimetype": "text/x-python",
   "name": "python",
   "nbconvert_exporter": "python",
   "pygments_lexer": "ipython3",
   "version": "3.10.9"
  },
  "orig_nbformat": 4
 },
 "nbformat": 4,
 "nbformat_minor": 2
}
