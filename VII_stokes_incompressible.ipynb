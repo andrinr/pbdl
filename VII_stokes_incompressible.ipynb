{
 "cells": [
  {
   "attachments": {},
   "cell_type": "markdown",
   "metadata": {},
   "source": [
    "# Differentiable Physics VII: Incompressible Navier Stokes"
   ]
  },
  {
   "attachments": {},
   "cell_type": "markdown",
   "metadata": {},
   "source": [
    "## Navier Stokes Equations\n",
    "\n",
    "We limit the scope of the solver with the following constraints:\n",
    "\n",
    "- We use the conservative form of the equations, meaning we are looking at a volume which is fixed in space and the fluid is moving through it.\n",
    "- We use a 2D grid based approach, where each cell in the grid represents a volume element and has size $\\Delta x \\times \\Delta y$.\n",
    "- The fluid is incompressible. This means that the density $\\rho$ is constant across the grid.\n",
    "\n",
    "The following quantities are defined on the grid:\n",
    "\n",
    "- $V$ : velocity vector field. $V = \\begin{pmatrix} u \\\\ v \\end{pmatrix}$\n",
    "- $p_{i,j}$ : pressure scalar field\n",
    "- $\\rho$ : density, constant across the grid\n",
    "- $\\nu$: kinematic viscosity, constant across the grid\n",
    "- $\\tau_{i,j}$ : dye concentration vector field ( for visualization purposes )"
   ]
  },
  {
   "attachments": {},
   "cell_type": "markdown",
   "metadata": {},
   "source": [
    "The equations for the incompressible Navier Stokes equations are:\n",
    "\n",
    "1. Momentum conservation:\n",
    "$$\\frac{\\partial V}{\\partial t} + V \\cdot \\nabla U= -\\frac{1}{\\rho} \\nabla p + \\nu \\Delta U$$\n",
    "\n",
    "2. Incompressibility or mass conservation:\n",
    "$$\\nabla \\cdot V = 0$$"
   ]
  },
  {
   "attachments": {},
   "cell_type": "markdown",
   "metadata": {},
   "source": [
    "As we are interested in the 2D case, we can write the equations as:\n",
    "\n",
    "$$\\frac{\\partial u}{\\partial t} + u \\frac{\\partial u}{\\partial x} + v \\frac{\\partial u}{\\partial y} = -\\frac{1}{\\rho} \\frac{\\partial p}{\\partial x} + \\nu \\left( \\frac{\\partial^2 u}{\\partial x^2} + \\frac{\\partial^2 u}{\\partial y^2} \\right) \\tag{1}$$\n",
    "\n",
    "$$\\frac{\\partial v}{\\partial t} + u \\frac{\\partial v}{\\partial x} + v \\frac{\\partial v}{\\partial y} = -\\frac{1}{\\rho} \\frac{\\partial p}{\\partial y} + \\nu \\left( \\frac{\\partial^2 v}{\\partial x^2} + \\frac{\\partial^2 v}{\\partial y^2} \\right) \\tag{2}$$"
   ]
  },
  {
   "attachments": {},
   "cell_type": "markdown",
   "metadata": {},
   "source": [
    "In the incompressible case the momentum conservation equation and the incompressibility equation are not coupled. We can couple them by taking the divergence of the momentum conservation equation and applying the incompressibility property:\n",
    "\n",
    "$$\\nabla \\left(\\frac{\\partial V}{\\partial t} + V \\cdot \\nabla V\\right) = \\nabla \\left( -\\frac{1}{\\rho} \\nabla p + \\nu \\Delta V  \\right)$$"
   ]
  },
  {
   "attachments": {},
   "cell_type": "markdown",
   "metadata": {},
   "source": [
    "On the LHS the term $\\nabla \\cdot \\vec{v}$ is zero, so we get:\n",
    "\n",
    "\n",
    "$$\\nabla \\left(V \\cdot \\nabla V\\right) = \\nabla \\left( -\\frac{1}{\\rho} \\nabla p + \\nu \\Delta V \\right)$$"
   ]
  },
  {
   "attachments": {},
   "cell_type": "markdown",
   "metadata": {},
   "source": [
    "On the RHS $\\nabla \\nu \\nabla^2 \\vec{v}$ is zero, so we get:\n",
    "\n",
    "$$\\nabla \\left(V \\cdot \\nabla V\\right) = \\nabla \\left( -\\frac{1}{\\rho} \\nabla p \\right) = -\\frac{1}{\\rho} \\Delta p$$"
   ]
  },
  {
   "attachments": {},
   "cell_type": "markdown",
   "metadata": {},
   "source": [
    "Which we can rearange to:\n",
    "\n",
    "$$\\Delta p = -\\rho \\nabla \\left(V \\cdot \\nabla V\\right)$$"
   ]
  },
  {
   "attachments": {},
   "cell_type": "markdown",
   "metadata": {},
   "source": [
    "Which can be written in 2D as:\n",
    "\n",
    "$$\\frac{\\partial^2 p}{\\partial x^2} + \\frac{\\partial^2 p}{\\partial y^2} = -\\rho \\left(  \\frac{\\partial u}{\\partial x} \\frac{\\partial u}{\\partial x} + 2 \\frac{\\partial u}{\\partial y} \\frac{\\partial v}{\\partial x} + \\frac{\\partial v}{\\partial y} \\frac{\\partial v}{\\partial y} \\right) \\tag{3}$$\n"
   ]
  },
  {
   "attachments": {},
   "cell_type": "markdown",
   "metadata": {},
   "source": [
    "Solvers for the Navier Stokes equations are usually based on the **projection method**. We use the Chorin projection method, which is a semi-implicit method. The method is based on the following steps:\n",
    "\n",
    "1. Solve the momentum conservation equation for the intermediate velocity field $V^*$, ignoring the pressure term:\n",
    "\n",
    "$$\\frac{\\partial V^*}{\\partial t} + V \\cdot \\nabla V^* = \\nu \\Delta V^* \\tag{4}$$\n",
    "\n",
    "2. Solve the Poisson equation for the pressure field $p$:\n",
    "\n",
    "$$\\Delta p^{n+1} = -\\rho \\nabla \\left(V^* \\cdot \\nabla V^* \\right) \\tag{5}$$\n",
    "\n",
    "3. Correct the intermediate velocity field with the pressure field:\n",
    "\n",
    "$$V^{n+1} = V^* - \\frac{1}{\\rho} \\nabla p^{n+1} \\tag{6}$$\n",
    "\n",
    "The projection method is a semi-implicit method, because the momentum conservation equation is solved explicitly, while the Poisson equation is solved implicitly.\n",
    "\n",
    "We use the Mac Cormack method to solve the momentum conservation equation which we have already seen in the previous notebook. To solve the Poisson equation we use the Jacobi method, which is a simple iterative method. There are more advanced methods for solving the Poisson equation, but the Jacobi method is simple and easy to implement."
   ]
  },
  {
   "attachments": {},
   "cell_type": "markdown",
   "metadata": {},
   "source": [
    "## Solve for the intermediate velocity field $V^*$\n",
    "\n",
    "To solve for the intermediate velocity field $V^*$ we use the MacCormack method as follows:\n",
    "\n",
    "$$\\bar{V}_{i,j}^{n+1, *} = V_{i,j}^n - \\frac{\\Delta t}{\\Delta x} \\left( E_{i+1, j}^{n} - E_{i, j}^{n} \\right) - \\frac{\\Delta t}{\\Delta y} \\left( F_{i, j+1}^{n} - F_{i, j}^{n} \\right)$$\n",
    "\n",
    "\n",
    "and the corrector step as:\n",
    "\n",
    "\n",
    "$$V_{i,j}^{n+1, *} = \\frac{1}{2} \\left[ \\left( V_{i,j}^* + \\bar{V}_{i,j}^{n+1,*} \\right) - \\frac{\\Delta t}{ \\Delta x} \\left( \\bar{E}_{i, j}^{n+1} - \\bar{E}_{i-1, j}^{n+1} \\right) - \\frac{\\Delta t}{\\Delta y} \\left( \\bar{F}_{i, j}^{n+1} - \\bar{F}_{i, j-1}^{n+1} \\right) \\right]$$"
   ]
  },
  {
   "attachments": {},
   "cell_type": "markdown",
   "metadata": {},
   "source": [
    "where we define the fluxes as:\n",
    "\n",
    "$$E = \\begin{bmatrix} u\\cdot u + \\nu \\frac{\\partial u}{\\partial x} \\\\  u\\cdot v + \\nu \\frac{\\partial u}{\\partial x}  \\end{bmatrix} \\quad F = \\begin{bmatrix} u\\cdot v + \\nu \\frac{\\partial v}{\\partial x} \\\\  v\\cdot v + \\nu \\frac{\\partial v}{\\partial y}  \\end{bmatrix}$$\n",
    "\n",
    "the velocity $V$ and state vector $U$ as:\n",
    "\n",
    "$$V = \\begin{bmatrix} u \\\\ v \\end{bmatrix} \\quad U = \\begin{bmatrix} u \\\\ v \\\\ p \\end{bmatrix}$$\n"
   ]
  },
  {
   "cell_type": "code",
   "execution_count": 8,
   "metadata": {},
   "outputs": [],
   "source": [
    "import jax.numpy as jnp\n",
    "from jax import jit\n",
    "from functools import partial\n",
    "\n",
    "@partial(jit, static_argnames=(\"delta\", \"axis\"))\n",
    "def fd(f : jnp.ndarray, delta : float, axis : int):\n",
    "    return jnp.roll(f, -1, axis=axis) - f / delta\n",
    "\n",
    "@partial(jit, static_argnames=(\"delta\", \"axis\"))\n",
    "def bd(f : jnp.ndarray, delta : float, axis : int):\n",
    "    return f - jnp.roll(f, 1, axis=axis) / delta\n",
    "\n",
    "@partial(jit, static_argnames=(\"delta\", \"axis\"))\n",
    "def cf(f : jnp.ndarray, delta : float, axis : int):\n",
    "    return (jnp.roll(f, -1, axis=axis) - jnp.roll(f, 1, axis=0)) / (2*delta)"
   ]
  },
  {
   "cell_type": "code",
   "execution_count": 20,
   "metadata": {},
   "outputs": [],
   "source": [
    "from jax.tree_util import Partial\n",
    "\n",
    "@partial(jit, static_argnames=(\"dx\", \"dy\", \"nu\", \"scheme\"))\n",
    "def construct_E_F(\n",
    "        V : jnp.ndarray, # Velocity field\n",
    "        dx : float, \n",
    "        dy : float, \n",
    "        nu : float, \n",
    "        scheme : tuple[str, str] = (\"f\", \"f\") \n",
    "    ) -> tuple[jnp.ndarray, jnp.ndarray]:\n",
    "\n",
    "    d_dx = Partial(fd, delta=dx, axis=0) if scheme[0] == \"f\" else partial(bd, delta=dx, axis=0)\n",
    "    d_dy = Partial(fd, delta=dy, axis=1) if scheme[1] == \"f\" else partial(bd, delta=dy, axis=1)\n",
    "    \n",
    "    u = V[..., 0]\n",
    "    v = V[..., 1]\n",
    "\n",
    "    E = jnp.zeros_like(V)\n",
    "    F = jnp.zeros_like(V)\n",
    "\n",
    "    E = E.at[..., 0].set(u * u + nu * d_dx(u))\n",
    "    E = E.at[..., 1].set(u * v + nu * d_dy(u))\n",
    "\n",
    "    F = F.at[..., 0].set(u * v + nu * d_dx(v))\n",
    "    F = F.at[..., 1].set(v * v + nu * d_dy(v))\n",
    "\n",
    "    return E, F"
   ]
  },
  {
   "cell_type": "code",
   "execution_count": 21,
   "metadata": {},
   "outputs": [],
   "source": [
    "@partial(jit, static_argnames=(\"dt\", \"dx\", \"dy\", \"nu\", \"pred_scheme\", \"corr_scheme\"))\n",
    "def mac_cormack_2d(\n",
    "        V : jnp.ndarray, # velocity field\n",
    "        dt : float, # delta time\n",
    "        dx : float, # delta x\n",
    "        dy : float, # delta y\n",
    "        nu : float, # viscosity\n",
    "        pred_scheme : tuple[str, str], # prediction scheme\n",
    "        corr_scheme : tuple[str, str], # correction scheme\n",
    "    ) -> jnp.ndarray:\n",
    "    \n",
    "    pd_dx = Partial(fd, delta=dx, axis=0) if pred_scheme[0] == 'f' else Partial(bd, delta=dx, axis=0)\n",
    "    pd_dy = Partial(fd, delta=dy, axis=1) if pred_scheme[1] == 'f' else Partial(bd, delta=dy, axis=1)\n",
    "\n",
    "    cd_dx = Partial(fd, delta=dx, axis=0) if corr_scheme[0] == 'f' else Partial(bd, delta=dx, axis=0)\n",
    "    cd_dy = Partial(fd, delta=dy, axis=1) if corr_scheme[1] == 'f' else Partial(bd, delta=dy, axis=1)\n",
    "\n",
    "    E, F = construct_E_F(V, dx, dy, nu, pred_scheme)\n",
    "\n",
    "    V_pred = V - \\\n",
    "        dt * pd_dx(E) - \\\n",
    "        dt * pd_dy(F)\n",
    "\n",
    "    E_pred, F_pred = construct_E_F(V_pred, dt, dx, dy, nu, corr_scheme)\n",
    "\n",
    "    V_fwd = 1/2 * ( (V + V_pred) - \\\n",
    "        dt * cd_dx(E_pred) - \\\n",
    "        dt * cd_dy(F_pred) )\n",
    "        \n",
    "    return V_fwd"
   ]
  },
  {
   "attachments": {},
   "cell_type": "markdown",
   "metadata": {},
   "source": [
    "## Solve the Poisson equation for the pressure field $p$\n",
    "\n",
    "Remember that the Poisson equation for the pressure field $p$ in 2D is:\n",
    "\n",
    "$$\\frac{\\partial^2 p}{\\partial x^2} + \\frac{\\partial^2 p}{\\partial y^2} = f$$\n",
    "\n",
    "where we define $f$ as:\n",
    "\n",
    "$$ f = -\\rho \\left(  \\frac{\\partial u}{\\partial x} \\frac{\\partial u}{\\partial x} + 2 \\frac{\\partial u}{\\partial y} \\frac{\\partial v}{\\partial x} + \\frac{\\partial v}{\\partial y} \\frac{\\partial v}{\\partial y} \\right) $$\n"
   ]
  },
  {
   "attachments": {},
   "cell_type": "markdown",
   "metadata": {},
   "source": [
    "We can discretize the Poisson equation as follows:\n",
    "\n",
    "$$\\frac{p_{i+1, j} - 2 p_{i,j} + p_{i-1,j}}{\\Delta x^2} + \\frac{p_{i, j+1} - 2 p_{i,j} + p_{i,j-1}}{\\Delta y^2} = f$$\n",
    "\n",
    "under the assumption that $\\Delta x = \\Delta y$ we get:\n",
    "\n",
    "$$ p_{i+1, j} - 2 p_{i,j} + p_{i-1,j} + p_{i, j+1} - 2 p_{i,j} + p_{i,j-1} = f \\Delta x^2$$\n",
    "\n",
    "which we can rearrange to:\n",
    "\n",
    "$$ p_{i,j} = \\frac{1}{4} \\left( p_{i+1, j} + p_{i-1,j} + p_{i, j+1} + p_{i,j-1} - f \\Delta x^2 \\right)$$\n",
    "\n",
    "which can be used to iteratively solve for $p_{i,j}$.\n",
    "\n",
    "**Question: is this the jacobi method?**\n",
    "\n"
   ]
  },
  {
   "cell_type": "code",
   "execution_count": 25,
   "metadata": {},
   "outputs": [],
   "source": [
    "@partial(jit, static_argnames=(\"dx\", \"dy\"))\n",
    "def jacobi_step(\n",
    "        p : jnp.ndarray, # pressure field\n",
    "        f : jnp.ndarray, # RHS\n",
    "        dx : float, \n",
    "        dy : float\n",
    "    ) -> jnp.ndarray:\n",
    "    \n",
    "    p_new = jnp.roll(p, 1, axis=0) + jnp.roll(p, -1, axis=0) + \\\n",
    "        jnp.roll(p, 1, axis=1) + jnp.roll(p, -1, axis=1) - \\\n",
    "        dx**2 * f\n",
    "\n",
    "    return p_new / 4\n",
    "\n",
    "@partial(jit, static_argnames=(\"dx\", \"dy\", \"iterations\"))\n",
    "def jacobi(\n",
    "        p : jnp.ndarray, \n",
    "        f : jnp.ndarray, \n",
    "        dx : float, \n",
    "        dy : float, \n",
    "        iterations : int\n",
    "    ) -> jnp.ndarray:\n",
    "\n",
    "    assert dx == dy\n",
    "\n",
    "    for _ in range(iterations):\n",
    "        p = jacobi_step(p, f, dx, dy)\n",
    "        \n",
    "    return p"
   ]
  },
  {
   "attachments": {},
   "cell_type": "markdown",
   "metadata": {},
   "source": [
    "## Simulation"
   ]
  },
  {
   "cell_type": "code",
   "execution_count": 23,
   "metadata": {},
   "outputs": [],
   "source": [
    "@partial(jit, static_argnames=(\"dt\", \"dx\", \"dy\", \"nu\", \"rho\", \"iterations\"))\n",
    "def ns_solver_step(\n",
    "    U : jnp.ndarray, # state vector\n",
    "    dt : float, # time step\n",
    "    dx : float, # grid spacing x\n",
    "    dy : float, # grid spacing y\n",
    "    nu : float, # viscosity\n",
    "    rho : float, # density\n",
    "    iterations : int # number of iterations for jacobi solver\n",
    ") -> jnp.ndarray:\n",
    "    \n",
    "    u = U[..., 0]\n",
    "    v = U[..., 1]\n",
    "    p = U[..., 2]\n",
    "\n",
    "    V = U[..., :2]\n",
    "    \n",
    "    # predict velocity\n",
    "    V_star = mac_cormack_2d(V, dt, dx, dy, nu, (\"f\", \"f\"), (\"b\", \"b\"))\n",
    "    # solve for pressure\n",
    "    p_fwd = jacobi(p, dx, dy, iterations)\n",
    "    # correct pressure\n",
    "    grad_p = jnp.stack(fd(p_fwd, dx, 0), fd(p_fwd, dy, 1), axis=-1)\n",
    "    V_fwd = V_star - grad_p / rho\n",
    "\n",
    "    U = U.at[..., :2].set(V_fwd)\n",
    "    U = U.at[..., 2].set(p_fwd)\n",
    "    \n",
    "    return U\n",
    "\n",
    "@partial(jit, static_argnames=(\"dt\", \"dx\", \"dy\", \"nu\", \"solver_iterations\", \"steps\"))\n",
    "def ns_solver(\n",
    "        U : jnp.ndarray, # state vector\n",
    "        dt : float, # time step\n",
    "        dx : float, # grid spacing x\n",
    "        dy : float, # grid spacing y\n",
    "        nu : float, # viscosity\n",
    "        rho : float, # density\n",
    "        solver_iterations : int, # number of iterations for jacobi solver\n",
    "        steps : int # number of steps\n",
    "    ) -> jnp.ndarray:\n",
    "\n",
    "    for _ in range(steps):\n",
    "        U = ns_solver_step(U, dt, dx, dy, nu, rho, solver_iterations)\n",
    "    return U"
   ]
  },
  {
   "cell_type": "code",
   "execution_count": 24,
   "metadata": {},
   "outputs": [
    {
     "ename": "TypeError",
     "evalue": "Argument 'b' of type <class 'str'> is not a valid JAX type",
     "output_type": "error",
     "traceback": [
      "\u001b[0;31m---------------------------------------------------------------------------\u001b[0m",
      "\u001b[0;31mTypeError\u001b[0m                                 Traceback (most recent call last)",
      "Cell \u001b[0;32mIn[24], line 22\u001b[0m\n\u001b[1;32m     19\u001b[0m jacobi_steps \u001b[39m=\u001b[39m \u001b[39m100\u001b[39m\n\u001b[1;32m     20\u001b[0m time_steps \u001b[39m=\u001b[39m \u001b[39m100\u001b[39m\n\u001b[0;32m---> 22\u001b[0m U \u001b[39m=\u001b[39m ns_solver(U, dt, dx, dy, nu, rho, jacobi_steps, time_steps)\n",
      "    \u001b[0;31m[... skipping hidden 12 frame]\u001b[0m\n",
      "Cell \u001b[0;32mIn[23], line 44\u001b[0m, in \u001b[0;36mns_solver\u001b[0;34m(U, dt, dx, dy, nu, rho, solver_iterations, steps)\u001b[0m\n\u001b[1;32m     31\u001b[0m \u001b[39m@partial\u001b[39m(jit, static_argnames\u001b[39m=\u001b[39m(\u001b[39m\"\u001b[39m\u001b[39mdt\u001b[39m\u001b[39m\"\u001b[39m, \u001b[39m\"\u001b[39m\u001b[39mdx\u001b[39m\u001b[39m\"\u001b[39m, \u001b[39m\"\u001b[39m\u001b[39mdy\u001b[39m\u001b[39m\"\u001b[39m, \u001b[39m\"\u001b[39m\u001b[39mnu\u001b[39m\u001b[39m\"\u001b[39m, \u001b[39m\"\u001b[39m\u001b[39msolver_iterations\u001b[39m\u001b[39m\"\u001b[39m, \u001b[39m\"\u001b[39m\u001b[39msteps\u001b[39m\u001b[39m\"\u001b[39m))\n\u001b[1;32m     32\u001b[0m \u001b[39mdef\u001b[39;00m \u001b[39mns_solver\u001b[39m(\n\u001b[1;32m     33\u001b[0m         U : jnp\u001b[39m.\u001b[39mndarray, \u001b[39m# state vector\u001b[39;00m\n\u001b[0;32m   (...)\u001b[0m\n\u001b[1;32m     40\u001b[0m         steps : \u001b[39mint\u001b[39m \u001b[39m# number of steps\u001b[39;00m\n\u001b[1;32m     41\u001b[0m     ) \u001b[39m-\u001b[39m\u001b[39m>\u001b[39m jnp\u001b[39m.\u001b[39mndarray:\n\u001b[1;32m     43\u001b[0m     \u001b[39mfor\u001b[39;00m _ \u001b[39min\u001b[39;00m \u001b[39mrange\u001b[39m(steps):\n\u001b[0;32m---> 44\u001b[0m         U \u001b[39m=\u001b[39m ns_solver_step(U, dt, dx, dy, nu, rho, solver_iterations)\n\u001b[1;32m     45\u001b[0m     \u001b[39mreturn\u001b[39;00m U\n",
      "    \u001b[0;31m[... skipping hidden 12 frame]\u001b[0m\n",
      "Cell \u001b[0;32mIn[23], line 19\u001b[0m, in \u001b[0;36mns_solver_step\u001b[0;34m(U, dt, dx, dy, nu, rho, iterations)\u001b[0m\n\u001b[1;32m     16\u001b[0m V \u001b[39m=\u001b[39m U[\u001b[39m.\u001b[39m\u001b[39m.\u001b[39m\u001b[39m.\u001b[39m, :\u001b[39m2\u001b[39m]\n\u001b[1;32m     18\u001b[0m \u001b[39m# predict velocity\u001b[39;00m\n\u001b[0;32m---> 19\u001b[0m V_star \u001b[39m=\u001b[39m mac_cormack_2d(V, dt, dx, dy, nu, (\u001b[39m\"\u001b[39;49m\u001b[39mf\u001b[39;49m\u001b[39m\"\u001b[39;49m, \u001b[39m\"\u001b[39;49m\u001b[39mf\u001b[39;49m\u001b[39m\"\u001b[39;49m), (\u001b[39m\"\u001b[39;49m\u001b[39mb\u001b[39;49m\u001b[39m\"\u001b[39;49m, \u001b[39m\"\u001b[39;49m\u001b[39mb\u001b[39;49m\u001b[39m\"\u001b[39;49m))\n\u001b[1;32m     20\u001b[0m \u001b[39m# solve for pressure\u001b[39;00m\n\u001b[1;32m     21\u001b[0m p_fwd \u001b[39m=\u001b[39m jacobi(p, dx, dy, iterations)\n",
      "    \u001b[0;31m[... skipping hidden 12 frame]\u001b[0m\n",
      "Cell \u001b[0;32mIn[21], line 24\u001b[0m, in \u001b[0;36mmac_cormack_2d\u001b[0;34m(V, dt, dx, dy, nu, pred_scheme, corr_scheme)\u001b[0m\n\u001b[1;32m     18\u001b[0m E, F \u001b[39m=\u001b[39m construct_E_F(V, dx, dy, nu, pred_scheme)\n\u001b[1;32m     20\u001b[0m V_pred \u001b[39m=\u001b[39m V \u001b[39m-\u001b[39m \\\n\u001b[1;32m     21\u001b[0m     dt \u001b[39m*\u001b[39m pd_dx(E) \u001b[39m-\u001b[39m \\\n\u001b[1;32m     22\u001b[0m     dt \u001b[39m*\u001b[39m pd_dy(F)\n\u001b[0;32m---> 24\u001b[0m E_pred, F_pred \u001b[39m=\u001b[39m construct_E_F(V_pred, dt, dx, dy, nu, corr_scheme)\n\u001b[1;32m     26\u001b[0m V_fwd \u001b[39m=\u001b[39m \u001b[39m1\u001b[39m\u001b[39m/\u001b[39m\u001b[39m2\u001b[39m \u001b[39m*\u001b[39m ( (V \u001b[39m+\u001b[39m V_pred) \u001b[39m-\u001b[39m \\\n\u001b[1;32m     27\u001b[0m     dt \u001b[39m*\u001b[39m cd_dx(E_pred) \u001b[39m-\u001b[39m \\\n\u001b[1;32m     28\u001b[0m     dt \u001b[39m*\u001b[39m cd_dy(F_pred) )\n\u001b[1;32m     30\u001b[0m \u001b[39mreturn\u001b[39;00m V_fwd\n",
      "    \u001b[0;31m[... skipping hidden 6 frame]\u001b[0m\n",
      "File \u001b[0;32m~/miniconda3/envs/pbdl/lib/python3.10/site-packages/jax/_src/api_util.py:570\u001b[0m, in \u001b[0;36m_str_abstractify\u001b[0;34m(x)\u001b[0m\n\u001b[1;32m    569\u001b[0m \u001b[39mdef\u001b[39;00m \u001b[39m_str_abstractify\u001b[39m(x):\n\u001b[0;32m--> 570\u001b[0m   \u001b[39mraise\u001b[39;00m \u001b[39mTypeError\u001b[39;00m(\u001b[39mf\u001b[39m\u001b[39m\"\u001b[39m\u001b[39mArgument \u001b[39m\u001b[39m'\u001b[39m\u001b[39m{\u001b[39;00mx\u001b[39m}\u001b[39;00m\u001b[39m'\u001b[39m\u001b[39m of type \u001b[39m\u001b[39m{\u001b[39;00m\u001b[39mtype\u001b[39m(x)\u001b[39m}\u001b[39;00m\u001b[39m is not a valid JAX type\u001b[39m\u001b[39m\"\u001b[39m)\n",
      "\u001b[0;31mTypeError\u001b[0m: Argument 'b' of type <class 'str'> is not a valid JAX type"
     ]
    }
   ],
   "source": [
    "dx = 0.1\n",
    "dy = 0.1\n",
    "dt = 0.01\n",
    "\n",
    "nu = 0.1\n",
    "rho = 1.0\n",
    "\n",
    "nx = 100\n",
    "ny = 100\n",
    "\n",
    "x = jnp.linspace(0, 1, nx)\n",
    "y = jnp.linspace(0, 1, ny)\n",
    "\n",
    "X, Y = jnp.meshgrid(x, y, indexing=\"ij\")\n",
    "\n",
    "U = jnp.zeros((nx, ny, 3))\n",
    "U = U.at[..., 0].set(1.0)\n",
    "\n",
    "jacobi_steps = 100\n",
    "time_steps = 100\n",
    "\n",
    "U = ns_solver(U, dt, dx, dy, nu, rho, jacobi_steps, time_steps)"
   ]
  },
  {
   "cell_type": "code",
   "execution_count": null,
   "metadata": {},
   "outputs": [],
   "source": []
  }
 ],
 "metadata": {
  "kernelspec": {
   "display_name": "pbdl",
   "language": "python",
   "name": "python3"
  },
  "language_info": {
   "codemirror_mode": {
    "name": "ipython",
    "version": 3
   },
   "file_extension": ".py",
   "mimetype": "text/x-python",
   "name": "python",
   "nbconvert_exporter": "python",
   "pygments_lexer": "ipython3",
   "version": "3.10.9"
  },
  "orig_nbformat": 4
 },
 "nbformat": 4,
 "nbformat_minor": 2
}
